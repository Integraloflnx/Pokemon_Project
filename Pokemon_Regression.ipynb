{
  "nbformat": 4,
  "nbformat_minor": 0,
  "metadata": {
    "colab": {
      "provenance": [],
      "collapsed_sections": [
        "cW40B0pKJbYF",
        "h7Rg-Ey9i_WT",
        "6RpZIduinjiu"
      ],
      "authorship_tag": "ABX9TyOlIhh3rACDYC+8MoyOTSVY",
      "include_colab_link": true
    },
    "kernelspec": {
      "name": "python3",
      "display_name": "Python 3"
    },
    "language_info": {
      "name": "python"
    }
  },
  "cells": [
    {
      "cell_type": "markdown",
      "metadata": {
        "id": "view-in-github",
        "colab_type": "text"
      },
      "source": [
        "<a href=\"https://colab.research.google.com/github/Integraloflnx/Pokemon_Regression/blob/main/Pokemon_Regression.ipynb\" target=\"_parent\"><img src=\"https://colab.research.google.com/assets/colab-badge.svg\" alt=\"Open In Colab\"/></a>"
      ]
    },
    {
      "cell_type": "markdown",
      "source": [
        "<center><img src=\"https://drive.google.com/uc?id=1gNm97UnUJomO64urX3ubtHyiJv_WgI8A\"/></center>\n",
        "\n"
      ],
      "metadata": {
        "id": "iHOsghQTJGzb"
      }
    },
    {
      "cell_type": "markdown",
      "source": [
        "# <center> <font size = \"25\"> **Predicting Pokemon Weight**"
      ],
      "metadata": {
        "id": "nR88giXixjVb"
      }
    },
    {
      "cell_type": "markdown",
      "source": [
        "## <font size = \"6\"> **Introduction**"
      ],
      "metadata": {
        "id": "SVDzmSmED5X_"
      }
    },
    {
      "cell_type": "markdown",
      "source": [
        "In this project, the goal is to build a linear regression model that predicts a Pokemon’s weight in kilograms using a variety of predictor variables such as height in meters, hp (health points), attack, defense, and speed. For this study I will be using the complete Pokemon dataset on the kaggle website. This dataset contains multiple categories of information for 802 Pokemon. The information contained in this dataset was gathered from the website serebii, which is a Pokemon database."
      ],
      "metadata": {
        "id": "s0QKUs0OEDMj"
      }
    },
    {
      "cell_type": "markdown",
      "source": [
        "## <font size = \"6\">**Importing and Cleaning the Data**"
      ],
      "metadata": {
        "id": "gG-UrQeGKC0u"
      }
    },
    {
      "cell_type": "markdown",
      "source": [
        "### <font size = \"4\">**Import and View Data**"
      ],
      "metadata": {
        "id": "ULhLpCkKKU1h"
      }
    },
    {
      "cell_type": "code",
      "source": [
        "#Import necessary modules for analysis\n",
        "\n",
        "import pandas as pd\n",
        "import matplotlib.pyplot as plt\n",
        "import seaborn as sns \n",
        "import numpy as np\n",
        "import math\n",
        "from statsmodels.formula.api import ols\n",
        "from statsmodels.api import qqplot\n",
        "from scipy import stats\n",
        "from scipy.stats import boxcox\n",
        "from patsy import dmatrices\n",
        "from statsmodels.stats.outliers_influence import variance_inflation_factor\n",
        "\n",
        "pd.options.mode.chained_assignment = None"
      ],
      "metadata": {
        "id": "3yJSgnHhL_3T"
      },
      "execution_count": null,
      "outputs": []
    },
    {
      "cell_type": "code",
      "source": [
        "#Read in the data\n",
        "url = \"https://github.com/Integraloflnx/Pokemon_Regression_Project/blob/main/data/pokemon.csv?raw=true\"\n",
        "df = pd.read_csv(url)"
      ],
      "metadata": {
        "id": "HigHl3j3NQo4"
      },
      "execution_count": null,
      "outputs": []
    },
    {
      "cell_type": "markdown",
      "source": [
        "<font size = \"3\"> Now that our data is loaded in, we will first take a look at the dataframe to see what the data looks like.\n",
        "<br>\n",
        "<br>\n",
        "<br>"
      ],
      "metadata": {
        "id": "VqjApF4YOFxW"
      }
    },
    {
      "cell_type": "code",
      "source": [
        "df.head()"
      ],
      "metadata": {
        "colab": {
          "base_uri": "https://localhost:8080/",
          "height": 421
        },
        "id": "WzELUIHIORmg",
        "outputId": "9d62ed5f-7c6a-4619-fcb9-284765fc9f8b"
      },
      "execution_count": null,
      "outputs": [
        {
          "output_type": "execute_result",
          "data": {
            "text/plain": [
              "                     abilities  against_bug  against_dark  against_dragon  \\\n",
              "0  ['Overgrow', 'Chlorophyll']          1.0           1.0             1.0   \n",
              "1  ['Overgrow', 'Chlorophyll']          1.0           1.0             1.0   \n",
              "2  ['Overgrow', 'Chlorophyll']          1.0           1.0             1.0   \n",
              "3     ['Blaze', 'Solar Power']          0.5           1.0             1.0   \n",
              "4     ['Blaze', 'Solar Power']          0.5           1.0             1.0   \n",
              "\n",
              "   against_electric  against_fairy  against_fight  against_fire  \\\n",
              "0               0.5            0.5            0.5           2.0   \n",
              "1               0.5            0.5            0.5           2.0   \n",
              "2               0.5            0.5            0.5           2.0   \n",
              "3               1.0            0.5            1.0           0.5   \n",
              "4               1.0            0.5            1.0           0.5   \n",
              "\n",
              "   against_flying  against_ghost  ...  percentage_male  pokedex_number  \\\n",
              "0             2.0            1.0  ...             88.1               1   \n",
              "1             2.0            1.0  ...             88.1               2   \n",
              "2             2.0            1.0  ...             88.1               3   \n",
              "3             1.0            1.0  ...             88.1               4   \n",
              "4             1.0            1.0  ...             88.1               5   \n",
              "\n",
              "   sp_attack  sp_defense  speed  type1   type2  weight_kg  generation  \\\n",
              "0         65          65     45  grass  poison        6.9           1   \n",
              "1         80          80     60  grass  poison       13.0           1   \n",
              "2        122         120     80  grass  poison      100.0           1   \n",
              "3         60          50     65   fire     NaN        8.5           1   \n",
              "4         80          65     80   fire     NaN       19.0           1   \n",
              "\n",
              "   is_legendary  \n",
              "0             0  \n",
              "1             0  \n",
              "2             0  \n",
              "3             0  \n",
              "4             0  \n",
              "\n",
              "[5 rows x 41 columns]"
            ],
            "text/html": [
              "\n",
              "  <div id=\"df-aaa5951a-3134-46ff-aa00-721fdd5eed27\">\n",
              "    <div class=\"colab-df-container\">\n",
              "      <div>\n",
              "<style scoped>\n",
              "    .dataframe tbody tr th:only-of-type {\n",
              "        vertical-align: middle;\n",
              "    }\n",
              "\n",
              "    .dataframe tbody tr th {\n",
              "        vertical-align: top;\n",
              "    }\n",
              "\n",
              "    .dataframe thead th {\n",
              "        text-align: right;\n",
              "    }\n",
              "</style>\n",
              "<table border=\"1\" class=\"dataframe\">\n",
              "  <thead>\n",
              "    <tr style=\"text-align: right;\">\n",
              "      <th></th>\n",
              "      <th>abilities</th>\n",
              "      <th>against_bug</th>\n",
              "      <th>against_dark</th>\n",
              "      <th>against_dragon</th>\n",
              "      <th>against_electric</th>\n",
              "      <th>against_fairy</th>\n",
              "      <th>against_fight</th>\n",
              "      <th>against_fire</th>\n",
              "      <th>against_flying</th>\n",
              "      <th>against_ghost</th>\n",
              "      <th>...</th>\n",
              "      <th>percentage_male</th>\n",
              "      <th>pokedex_number</th>\n",
              "      <th>sp_attack</th>\n",
              "      <th>sp_defense</th>\n",
              "      <th>speed</th>\n",
              "      <th>type1</th>\n",
              "      <th>type2</th>\n",
              "      <th>weight_kg</th>\n",
              "      <th>generation</th>\n",
              "      <th>is_legendary</th>\n",
              "    </tr>\n",
              "  </thead>\n",
              "  <tbody>\n",
              "    <tr>\n",
              "      <th>0</th>\n",
              "      <td>['Overgrow', 'Chlorophyll']</td>\n",
              "      <td>1.0</td>\n",
              "      <td>1.0</td>\n",
              "      <td>1.0</td>\n",
              "      <td>0.5</td>\n",
              "      <td>0.5</td>\n",
              "      <td>0.5</td>\n",
              "      <td>2.0</td>\n",
              "      <td>2.0</td>\n",
              "      <td>1.0</td>\n",
              "      <td>...</td>\n",
              "      <td>88.1</td>\n",
              "      <td>1</td>\n",
              "      <td>65</td>\n",
              "      <td>65</td>\n",
              "      <td>45</td>\n",
              "      <td>grass</td>\n",
              "      <td>poison</td>\n",
              "      <td>6.9</td>\n",
              "      <td>1</td>\n",
              "      <td>0</td>\n",
              "    </tr>\n",
              "    <tr>\n",
              "      <th>1</th>\n",
              "      <td>['Overgrow', 'Chlorophyll']</td>\n",
              "      <td>1.0</td>\n",
              "      <td>1.0</td>\n",
              "      <td>1.0</td>\n",
              "      <td>0.5</td>\n",
              "      <td>0.5</td>\n",
              "      <td>0.5</td>\n",
              "      <td>2.0</td>\n",
              "      <td>2.0</td>\n",
              "      <td>1.0</td>\n",
              "      <td>...</td>\n",
              "      <td>88.1</td>\n",
              "      <td>2</td>\n",
              "      <td>80</td>\n",
              "      <td>80</td>\n",
              "      <td>60</td>\n",
              "      <td>grass</td>\n",
              "      <td>poison</td>\n",
              "      <td>13.0</td>\n",
              "      <td>1</td>\n",
              "      <td>0</td>\n",
              "    </tr>\n",
              "    <tr>\n",
              "      <th>2</th>\n",
              "      <td>['Overgrow', 'Chlorophyll']</td>\n",
              "      <td>1.0</td>\n",
              "      <td>1.0</td>\n",
              "      <td>1.0</td>\n",
              "      <td>0.5</td>\n",
              "      <td>0.5</td>\n",
              "      <td>0.5</td>\n",
              "      <td>2.0</td>\n",
              "      <td>2.0</td>\n",
              "      <td>1.0</td>\n",
              "      <td>...</td>\n",
              "      <td>88.1</td>\n",
              "      <td>3</td>\n",
              "      <td>122</td>\n",
              "      <td>120</td>\n",
              "      <td>80</td>\n",
              "      <td>grass</td>\n",
              "      <td>poison</td>\n",
              "      <td>100.0</td>\n",
              "      <td>1</td>\n",
              "      <td>0</td>\n",
              "    </tr>\n",
              "    <tr>\n",
              "      <th>3</th>\n",
              "      <td>['Blaze', 'Solar Power']</td>\n",
              "      <td>0.5</td>\n",
              "      <td>1.0</td>\n",
              "      <td>1.0</td>\n",
              "      <td>1.0</td>\n",
              "      <td>0.5</td>\n",
              "      <td>1.0</td>\n",
              "      <td>0.5</td>\n",
              "      <td>1.0</td>\n",
              "      <td>1.0</td>\n",
              "      <td>...</td>\n",
              "      <td>88.1</td>\n",
              "      <td>4</td>\n",
              "      <td>60</td>\n",
              "      <td>50</td>\n",
              "      <td>65</td>\n",
              "      <td>fire</td>\n",
              "      <td>NaN</td>\n",
              "      <td>8.5</td>\n",
              "      <td>1</td>\n",
              "      <td>0</td>\n",
              "    </tr>\n",
              "    <tr>\n",
              "      <th>4</th>\n",
              "      <td>['Blaze', 'Solar Power']</td>\n",
              "      <td>0.5</td>\n",
              "      <td>1.0</td>\n",
              "      <td>1.0</td>\n",
              "      <td>1.0</td>\n",
              "      <td>0.5</td>\n",
              "      <td>1.0</td>\n",
              "      <td>0.5</td>\n",
              "      <td>1.0</td>\n",
              "      <td>1.0</td>\n",
              "      <td>...</td>\n",
              "      <td>88.1</td>\n",
              "      <td>5</td>\n",
              "      <td>80</td>\n",
              "      <td>65</td>\n",
              "      <td>80</td>\n",
              "      <td>fire</td>\n",
              "      <td>NaN</td>\n",
              "      <td>19.0</td>\n",
              "      <td>1</td>\n",
              "      <td>0</td>\n",
              "    </tr>\n",
              "  </tbody>\n",
              "</table>\n",
              "<p>5 rows × 41 columns</p>\n",
              "</div>\n",
              "      <button class=\"colab-df-convert\" onclick=\"convertToInteractive('df-aaa5951a-3134-46ff-aa00-721fdd5eed27')\"\n",
              "              title=\"Convert this dataframe to an interactive table.\"\n",
              "              style=\"display:none;\">\n",
              "        \n",
              "  <svg xmlns=\"http://www.w3.org/2000/svg\" height=\"24px\"viewBox=\"0 0 24 24\"\n",
              "       width=\"24px\">\n",
              "    <path d=\"M0 0h24v24H0V0z\" fill=\"none\"/>\n",
              "    <path d=\"M18.56 5.44l.94 2.06.94-2.06 2.06-.94-2.06-.94-.94-2.06-.94 2.06-2.06.94zm-11 1L8.5 8.5l.94-2.06 2.06-.94-2.06-.94L8.5 2.5l-.94 2.06-2.06.94zm10 10l.94 2.06.94-2.06 2.06-.94-2.06-.94-.94-2.06-.94 2.06-2.06.94z\"/><path d=\"M17.41 7.96l-1.37-1.37c-.4-.4-.92-.59-1.43-.59-.52 0-1.04.2-1.43.59L10.3 9.45l-7.72 7.72c-.78.78-.78 2.05 0 2.83L4 21.41c.39.39.9.59 1.41.59.51 0 1.02-.2 1.41-.59l7.78-7.78 2.81-2.81c.8-.78.8-2.07 0-2.86zM5.41 20L4 18.59l7.72-7.72 1.47 1.35L5.41 20z\"/>\n",
              "  </svg>\n",
              "      </button>\n",
              "      \n",
              "  <style>\n",
              "    .colab-df-container {\n",
              "      display:flex;\n",
              "      flex-wrap:wrap;\n",
              "      gap: 12px;\n",
              "    }\n",
              "\n",
              "    .colab-df-convert {\n",
              "      background-color: #E8F0FE;\n",
              "      border: none;\n",
              "      border-radius: 50%;\n",
              "      cursor: pointer;\n",
              "      display: none;\n",
              "      fill: #1967D2;\n",
              "      height: 32px;\n",
              "      padding: 0 0 0 0;\n",
              "      width: 32px;\n",
              "    }\n",
              "\n",
              "    .colab-df-convert:hover {\n",
              "      background-color: #E2EBFA;\n",
              "      box-shadow: 0px 1px 2px rgba(60, 64, 67, 0.3), 0px 1px 3px 1px rgba(60, 64, 67, 0.15);\n",
              "      fill: #174EA6;\n",
              "    }\n",
              "\n",
              "    [theme=dark] .colab-df-convert {\n",
              "      background-color: #3B4455;\n",
              "      fill: #D2E3FC;\n",
              "    }\n",
              "\n",
              "    [theme=dark] .colab-df-convert:hover {\n",
              "      background-color: #434B5C;\n",
              "      box-shadow: 0px 1px 3px 1px rgba(0, 0, 0, 0.15);\n",
              "      filter: drop-shadow(0px 1px 2px rgba(0, 0, 0, 0.3));\n",
              "      fill: #FFFFFF;\n",
              "    }\n",
              "  </style>\n",
              "\n",
              "      <script>\n",
              "        const buttonEl =\n",
              "          document.querySelector('#df-aaa5951a-3134-46ff-aa00-721fdd5eed27 button.colab-df-convert');\n",
              "        buttonEl.style.display =\n",
              "          google.colab.kernel.accessAllowed ? 'block' : 'none';\n",
              "\n",
              "        async function convertToInteractive(key) {\n",
              "          const element = document.querySelector('#df-aaa5951a-3134-46ff-aa00-721fdd5eed27');\n",
              "          const dataTable =\n",
              "            await google.colab.kernel.invokeFunction('convertToInteractive',\n",
              "                                                     [key], {});\n",
              "          if (!dataTable) return;\n",
              "\n",
              "          const docLinkHtml = 'Like what you see? Visit the ' +\n",
              "            '<a target=\"_blank\" href=https://colab.research.google.com/notebooks/data_table.ipynb>data table notebook</a>'\n",
              "            + ' to learn more about interactive tables.';\n",
              "          element.innerHTML = '';\n",
              "          dataTable['output_type'] = 'display_data';\n",
              "          await google.colab.output.renderOutput(dataTable, element);\n",
              "          const docLink = document.createElement('div');\n",
              "          docLink.innerHTML = docLinkHtml;\n",
              "          element.appendChild(docLink);\n",
              "        }\n",
              "      </script>\n",
              "    </div>\n",
              "  </div>\n",
              "  "
            ]
          },
          "metadata": {},
          "execution_count": 6
        }
      ]
    },
    {
      "cell_type": "markdown",
      "source": [
        "We are only interested in a Pokemon's name, height, weight, hp, attack, defense, and speed. Thus we will get rid of any unwanted variables so we can focus on the variables of interest. For our model we will only be looking at non-legendary Pokemon. The reasoning for excluding legendary Pokemon is that they are often extreme outliers in weight, and other categories within our predictor variables, thus many of these Pokemon have the potential to be points of influence.\n",
        "<br>\n",
        "<br>"
      ],
      "metadata": {
        "id": "0YDB0dmfOVNq"
      }
    },
    {
      "cell_type": "code",
      "source": [
        "#Exclude legendary Pokemon and create dataframe with variables of interest\n",
        "non_legendary_condition= df[\"is_legendary\"] == 0\n",
        "variables_of_interest = [\"name\", \"weight_kg\", \"height_m\", \"hp\", \"attack\", \"defense\", \"speed\"]\n",
        "poke = df[non_legendary_condition][variables_of_interest]"
      ],
      "metadata": {
        "id": "jZoc-yJDQO_n"
      },
      "execution_count": null,
      "outputs": []
    },
    {
      "cell_type": "markdown",
      "source": [
        "We now take a look at our reduced dataframe."
      ],
      "metadata": {
        "id": "Unm8-RHDQmn-"
      }
    },
    {
      "cell_type": "code",
      "source": [
        "poke.head()"
      ],
      "metadata": {
        "colab": {
          "base_uri": "https://localhost:8080/",
          "height": 206
        },
        "id": "H1o6uytIQuLA",
        "outputId": "b3d2d493-2dcf-4d74-bb62-4fcd231cabe1"
      },
      "execution_count": null,
      "outputs": [
        {
          "output_type": "execute_result",
          "data": {
            "text/plain": [
              "         name  weight_kg  height_m  hp  attack  defense  speed\n",
              "0   Bulbasaur        6.9       0.7  45      49       49     45\n",
              "1     Ivysaur       13.0       1.0  60      62       63     60\n",
              "2    Venusaur      100.0       2.0  80     100      123     80\n",
              "3  Charmander        8.5       0.6  39      52       43     65\n",
              "4  Charmeleon       19.0       1.1  58      64       58     80"
            ],
            "text/html": [
              "\n",
              "  <div id=\"df-bf616d44-ac19-4a85-8406-89e51b9e3a7f\">\n",
              "    <div class=\"colab-df-container\">\n",
              "      <div>\n",
              "<style scoped>\n",
              "    .dataframe tbody tr th:only-of-type {\n",
              "        vertical-align: middle;\n",
              "    }\n",
              "\n",
              "    .dataframe tbody tr th {\n",
              "        vertical-align: top;\n",
              "    }\n",
              "\n",
              "    .dataframe thead th {\n",
              "        text-align: right;\n",
              "    }\n",
              "</style>\n",
              "<table border=\"1\" class=\"dataframe\">\n",
              "  <thead>\n",
              "    <tr style=\"text-align: right;\">\n",
              "      <th></th>\n",
              "      <th>name</th>\n",
              "      <th>weight_kg</th>\n",
              "      <th>height_m</th>\n",
              "      <th>hp</th>\n",
              "      <th>attack</th>\n",
              "      <th>defense</th>\n",
              "      <th>speed</th>\n",
              "    </tr>\n",
              "  </thead>\n",
              "  <tbody>\n",
              "    <tr>\n",
              "      <th>0</th>\n",
              "      <td>Bulbasaur</td>\n",
              "      <td>6.9</td>\n",
              "      <td>0.7</td>\n",
              "      <td>45</td>\n",
              "      <td>49</td>\n",
              "      <td>49</td>\n",
              "      <td>45</td>\n",
              "    </tr>\n",
              "    <tr>\n",
              "      <th>1</th>\n",
              "      <td>Ivysaur</td>\n",
              "      <td>13.0</td>\n",
              "      <td>1.0</td>\n",
              "      <td>60</td>\n",
              "      <td>62</td>\n",
              "      <td>63</td>\n",
              "      <td>60</td>\n",
              "    </tr>\n",
              "    <tr>\n",
              "      <th>2</th>\n",
              "      <td>Venusaur</td>\n",
              "      <td>100.0</td>\n",
              "      <td>2.0</td>\n",
              "      <td>80</td>\n",
              "      <td>100</td>\n",
              "      <td>123</td>\n",
              "      <td>80</td>\n",
              "    </tr>\n",
              "    <tr>\n",
              "      <th>3</th>\n",
              "      <td>Charmander</td>\n",
              "      <td>8.5</td>\n",
              "      <td>0.6</td>\n",
              "      <td>39</td>\n",
              "      <td>52</td>\n",
              "      <td>43</td>\n",
              "      <td>65</td>\n",
              "    </tr>\n",
              "    <tr>\n",
              "      <th>4</th>\n",
              "      <td>Charmeleon</td>\n",
              "      <td>19.0</td>\n",
              "      <td>1.1</td>\n",
              "      <td>58</td>\n",
              "      <td>64</td>\n",
              "      <td>58</td>\n",
              "      <td>80</td>\n",
              "    </tr>\n",
              "  </tbody>\n",
              "</table>\n",
              "</div>\n",
              "      <button class=\"colab-df-convert\" onclick=\"convertToInteractive('df-bf616d44-ac19-4a85-8406-89e51b9e3a7f')\"\n",
              "              title=\"Convert this dataframe to an interactive table.\"\n",
              "              style=\"display:none;\">\n",
              "        \n",
              "  <svg xmlns=\"http://www.w3.org/2000/svg\" height=\"24px\"viewBox=\"0 0 24 24\"\n",
              "       width=\"24px\">\n",
              "    <path d=\"M0 0h24v24H0V0z\" fill=\"none\"/>\n",
              "    <path d=\"M18.56 5.44l.94 2.06.94-2.06 2.06-.94-2.06-.94-.94-2.06-.94 2.06-2.06.94zm-11 1L8.5 8.5l.94-2.06 2.06-.94-2.06-.94L8.5 2.5l-.94 2.06-2.06.94zm10 10l.94 2.06.94-2.06 2.06-.94-2.06-.94-.94-2.06-.94 2.06-2.06.94z\"/><path d=\"M17.41 7.96l-1.37-1.37c-.4-.4-.92-.59-1.43-.59-.52 0-1.04.2-1.43.59L10.3 9.45l-7.72 7.72c-.78.78-.78 2.05 0 2.83L4 21.41c.39.39.9.59 1.41.59.51 0 1.02-.2 1.41-.59l7.78-7.78 2.81-2.81c.8-.78.8-2.07 0-2.86zM5.41 20L4 18.59l7.72-7.72 1.47 1.35L5.41 20z\"/>\n",
              "  </svg>\n",
              "      </button>\n",
              "      \n",
              "  <style>\n",
              "    .colab-df-container {\n",
              "      display:flex;\n",
              "      flex-wrap:wrap;\n",
              "      gap: 12px;\n",
              "    }\n",
              "\n",
              "    .colab-df-convert {\n",
              "      background-color: #E8F0FE;\n",
              "      border: none;\n",
              "      border-radius: 50%;\n",
              "      cursor: pointer;\n",
              "      display: none;\n",
              "      fill: #1967D2;\n",
              "      height: 32px;\n",
              "      padding: 0 0 0 0;\n",
              "      width: 32px;\n",
              "    }\n",
              "\n",
              "    .colab-df-convert:hover {\n",
              "      background-color: #E2EBFA;\n",
              "      box-shadow: 0px 1px 2px rgba(60, 64, 67, 0.3), 0px 1px 3px 1px rgba(60, 64, 67, 0.15);\n",
              "      fill: #174EA6;\n",
              "    }\n",
              "\n",
              "    [theme=dark] .colab-df-convert {\n",
              "      background-color: #3B4455;\n",
              "      fill: #D2E3FC;\n",
              "    }\n",
              "\n",
              "    [theme=dark] .colab-df-convert:hover {\n",
              "      background-color: #434B5C;\n",
              "      box-shadow: 0px 1px 3px 1px rgba(0, 0, 0, 0.15);\n",
              "      filter: drop-shadow(0px 1px 2px rgba(0, 0, 0, 0.3));\n",
              "      fill: #FFFFFF;\n",
              "    }\n",
              "  </style>\n",
              "\n",
              "      <script>\n",
              "        const buttonEl =\n",
              "          document.querySelector('#df-bf616d44-ac19-4a85-8406-89e51b9e3a7f button.colab-df-convert');\n",
              "        buttonEl.style.display =\n",
              "          google.colab.kernel.accessAllowed ? 'block' : 'none';\n",
              "\n",
              "        async function convertToInteractive(key) {\n",
              "          const element = document.querySelector('#df-bf616d44-ac19-4a85-8406-89e51b9e3a7f');\n",
              "          const dataTable =\n",
              "            await google.colab.kernel.invokeFunction('convertToInteractive',\n",
              "                                                     [key], {});\n",
              "          if (!dataTable) return;\n",
              "\n",
              "          const docLinkHtml = 'Like what you see? Visit the ' +\n",
              "            '<a target=\"_blank\" href=https://colab.research.google.com/notebooks/data_table.ipynb>data table notebook</a>'\n",
              "            + ' to learn more about interactive tables.';\n",
              "          element.innerHTML = '';\n",
              "          dataTable['output_type'] = 'display_data';\n",
              "          await google.colab.output.renderOutput(dataTable, element);\n",
              "          const docLink = document.createElement('div');\n",
              "          docLink.innerHTML = docLinkHtml;\n",
              "          element.appendChild(docLink);\n",
              "        }\n",
              "      </script>\n",
              "    </div>\n",
              "  </div>\n",
              "  "
            ]
          },
          "metadata": {},
          "execution_count": 8
        }
      ]
    },
    {
      "cell_type": "markdown",
      "source": [
        "To make navigating out dataframe easier we will make the name of the pokemon our dataframe index."
      ],
      "metadata": {
        "id": "LV6pBsLSQv5O"
      }
    },
    {
      "cell_type": "code",
      "source": [
        "#Make the Pokemon's name the index\n",
        "poke.set_index(\"name\", inplace = True)\n",
        "poke.head()"
      ],
      "metadata": {
        "colab": {
          "base_uri": "https://localhost:8080/",
          "height": 237
        },
        "id": "jBNgYSq4RAeS",
        "outputId": "89ff841e-cc1c-465a-e488-efa5d7456bdd"
      },
      "execution_count": null,
      "outputs": [
        {
          "output_type": "execute_result",
          "data": {
            "text/plain": [
              "            weight_kg  height_m  hp  attack  defense  speed\n",
              "name                                                       \n",
              "Bulbasaur         6.9       0.7  45      49       49     45\n",
              "Ivysaur          13.0       1.0  60      62       63     60\n",
              "Venusaur        100.0       2.0  80     100      123     80\n",
              "Charmander        8.5       0.6  39      52       43     65\n",
              "Charmeleon       19.0       1.1  58      64       58     80"
            ],
            "text/html": [
              "\n",
              "  <div id=\"df-529f5228-125c-45d8-9111-c0797ae88f5f\">\n",
              "    <div class=\"colab-df-container\">\n",
              "      <div>\n",
              "<style scoped>\n",
              "    .dataframe tbody tr th:only-of-type {\n",
              "        vertical-align: middle;\n",
              "    }\n",
              "\n",
              "    .dataframe tbody tr th {\n",
              "        vertical-align: top;\n",
              "    }\n",
              "\n",
              "    .dataframe thead th {\n",
              "        text-align: right;\n",
              "    }\n",
              "</style>\n",
              "<table border=\"1\" class=\"dataframe\">\n",
              "  <thead>\n",
              "    <tr style=\"text-align: right;\">\n",
              "      <th></th>\n",
              "      <th>weight_kg</th>\n",
              "      <th>height_m</th>\n",
              "      <th>hp</th>\n",
              "      <th>attack</th>\n",
              "      <th>defense</th>\n",
              "      <th>speed</th>\n",
              "    </tr>\n",
              "    <tr>\n",
              "      <th>name</th>\n",
              "      <th></th>\n",
              "      <th></th>\n",
              "      <th></th>\n",
              "      <th></th>\n",
              "      <th></th>\n",
              "      <th></th>\n",
              "    </tr>\n",
              "  </thead>\n",
              "  <tbody>\n",
              "    <tr>\n",
              "      <th>Bulbasaur</th>\n",
              "      <td>6.9</td>\n",
              "      <td>0.7</td>\n",
              "      <td>45</td>\n",
              "      <td>49</td>\n",
              "      <td>49</td>\n",
              "      <td>45</td>\n",
              "    </tr>\n",
              "    <tr>\n",
              "      <th>Ivysaur</th>\n",
              "      <td>13.0</td>\n",
              "      <td>1.0</td>\n",
              "      <td>60</td>\n",
              "      <td>62</td>\n",
              "      <td>63</td>\n",
              "      <td>60</td>\n",
              "    </tr>\n",
              "    <tr>\n",
              "      <th>Venusaur</th>\n",
              "      <td>100.0</td>\n",
              "      <td>2.0</td>\n",
              "      <td>80</td>\n",
              "      <td>100</td>\n",
              "      <td>123</td>\n",
              "      <td>80</td>\n",
              "    </tr>\n",
              "    <tr>\n",
              "      <th>Charmander</th>\n",
              "      <td>8.5</td>\n",
              "      <td>0.6</td>\n",
              "      <td>39</td>\n",
              "      <td>52</td>\n",
              "      <td>43</td>\n",
              "      <td>65</td>\n",
              "    </tr>\n",
              "    <tr>\n",
              "      <th>Charmeleon</th>\n",
              "      <td>19.0</td>\n",
              "      <td>1.1</td>\n",
              "      <td>58</td>\n",
              "      <td>64</td>\n",
              "      <td>58</td>\n",
              "      <td>80</td>\n",
              "    </tr>\n",
              "  </tbody>\n",
              "</table>\n",
              "</div>\n",
              "      <button class=\"colab-df-convert\" onclick=\"convertToInteractive('df-529f5228-125c-45d8-9111-c0797ae88f5f')\"\n",
              "              title=\"Convert this dataframe to an interactive table.\"\n",
              "              style=\"display:none;\">\n",
              "        \n",
              "  <svg xmlns=\"http://www.w3.org/2000/svg\" height=\"24px\"viewBox=\"0 0 24 24\"\n",
              "       width=\"24px\">\n",
              "    <path d=\"M0 0h24v24H0V0z\" fill=\"none\"/>\n",
              "    <path d=\"M18.56 5.44l.94 2.06.94-2.06 2.06-.94-2.06-.94-.94-2.06-.94 2.06-2.06.94zm-11 1L8.5 8.5l.94-2.06 2.06-.94-2.06-.94L8.5 2.5l-.94 2.06-2.06.94zm10 10l.94 2.06.94-2.06 2.06-.94-2.06-.94-.94-2.06-.94 2.06-2.06.94z\"/><path d=\"M17.41 7.96l-1.37-1.37c-.4-.4-.92-.59-1.43-.59-.52 0-1.04.2-1.43.59L10.3 9.45l-7.72 7.72c-.78.78-.78 2.05 0 2.83L4 21.41c.39.39.9.59 1.41.59.51 0 1.02-.2 1.41-.59l7.78-7.78 2.81-2.81c.8-.78.8-2.07 0-2.86zM5.41 20L4 18.59l7.72-7.72 1.47 1.35L5.41 20z\"/>\n",
              "  </svg>\n",
              "      </button>\n",
              "      \n",
              "  <style>\n",
              "    .colab-df-container {\n",
              "      display:flex;\n",
              "      flex-wrap:wrap;\n",
              "      gap: 12px;\n",
              "    }\n",
              "\n",
              "    .colab-df-convert {\n",
              "      background-color: #E8F0FE;\n",
              "      border: none;\n",
              "      border-radius: 50%;\n",
              "      cursor: pointer;\n",
              "      display: none;\n",
              "      fill: #1967D2;\n",
              "      height: 32px;\n",
              "      padding: 0 0 0 0;\n",
              "      width: 32px;\n",
              "    }\n",
              "\n",
              "    .colab-df-convert:hover {\n",
              "      background-color: #E2EBFA;\n",
              "      box-shadow: 0px 1px 2px rgba(60, 64, 67, 0.3), 0px 1px 3px 1px rgba(60, 64, 67, 0.15);\n",
              "      fill: #174EA6;\n",
              "    }\n",
              "\n",
              "    [theme=dark] .colab-df-convert {\n",
              "      background-color: #3B4455;\n",
              "      fill: #D2E3FC;\n",
              "    }\n",
              "\n",
              "    [theme=dark] .colab-df-convert:hover {\n",
              "      background-color: #434B5C;\n",
              "      box-shadow: 0px 1px 3px 1px rgba(0, 0, 0, 0.15);\n",
              "      filter: drop-shadow(0px 1px 2px rgba(0, 0, 0, 0.3));\n",
              "      fill: #FFFFFF;\n",
              "    }\n",
              "  </style>\n",
              "\n",
              "      <script>\n",
              "        const buttonEl =\n",
              "          document.querySelector('#df-529f5228-125c-45d8-9111-c0797ae88f5f button.colab-df-convert');\n",
              "        buttonEl.style.display =\n",
              "          google.colab.kernel.accessAllowed ? 'block' : 'none';\n",
              "\n",
              "        async function convertToInteractive(key) {\n",
              "          const element = document.querySelector('#df-529f5228-125c-45d8-9111-c0797ae88f5f');\n",
              "          const dataTable =\n",
              "            await google.colab.kernel.invokeFunction('convertToInteractive',\n",
              "                                                     [key], {});\n",
              "          if (!dataTable) return;\n",
              "\n",
              "          const docLinkHtml = 'Like what you see? Visit the ' +\n",
              "            '<a target=\"_blank\" href=https://colab.research.google.com/notebooks/data_table.ipynb>data table notebook</a>'\n",
              "            + ' to learn more about interactive tables.';\n",
              "          element.innerHTML = '';\n",
              "          dataTable['output_type'] = 'display_data';\n",
              "          await google.colab.output.renderOutput(dataTable, element);\n",
              "          const docLink = document.createElement('div');\n",
              "          docLink.innerHTML = docLinkHtml;\n",
              "          element.appendChild(docLink);\n",
              "        }\n",
              "      </script>\n",
              "    </div>\n",
              "  </div>\n",
              "  "
            ]
          },
          "metadata": {},
          "execution_count": 9
        }
      ]
    },
    {
      "cell_type": "markdown",
      "source": [
        "### <font size = \"4\"> **Cleaning the Data**"
      ],
      "metadata": {
        "id": "0khei8ZGRl2R"
      }
    },
    {
      "cell_type": "markdown",
      "source": [
        "We will first check to see if there are any missing values in our dataframe and if so how many does each column have."
      ],
      "metadata": {
        "id": "WcTlvRozSuHI"
      }
    },
    {
      "cell_type": "code",
      "source": [
        "#Check which columns have NAs\n",
        "poke.isna().any()"
      ],
      "metadata": {
        "colab": {
          "base_uri": "https://localhost:8080/"
        },
        "id": "FSdB68l7TOex",
        "outputId": "dc51da85-ee28-4c19-e328-c76dbcd2068c"
      },
      "execution_count": null,
      "outputs": [
        {
          "output_type": "execute_result",
          "data": {
            "text/plain": [
              "weight_kg     True\n",
              "height_m      True\n",
              "hp           False\n",
              "attack       False\n",
              "defense      False\n",
              "speed        False\n",
              "dtype: bool"
            ]
          },
          "metadata": {},
          "execution_count": 10
        }
      ]
    },
    {
      "cell_type": "code",
      "source": [
        "#Check how many NAs each columns has \n",
        "poke.isna().sum()"
      ],
      "metadata": {
        "id": "6RI6edvpTjx8",
        "colab": {
          "base_uri": "https://localhost:8080/"
        },
        "outputId": "7d0d5416-fb8c-4512-bcf8-d67f24467268"
      },
      "execution_count": null,
      "outputs": [
        {
          "output_type": "execute_result",
          "data": {
            "text/plain": [
              "weight_kg    19\n",
              "height_m     19\n",
              "hp            0\n",
              "attack        0\n",
              "defense       0\n",
              "speed         0\n",
              "dtype: int64"
            ]
          },
          "metadata": {},
          "execution_count": 11
        }
      ]
    },
    {
      "cell_type": "markdown",
      "source": [
        "As weight is our response variable we will have to exclude these rows entirely from our analysis."
      ],
      "metadata": {
        "id": "drs5T5SHUFTn"
      }
    },
    {
      "cell_type": "code",
      "source": [
        "#Clean dataframe, and compare the non-cleaned and cleaned dataframe\n",
        "print(\"Shape of the uncleaned data (columns, rows): \", poke.shape)\n",
        "poke.dropna(inplace = True)\n",
        "print(\"Shape of the cleaned data (columns, rows): \", poke.shape)"
      ],
      "metadata": {
        "id": "e3AyVTQcUMeR",
        "colab": {
          "base_uri": "https://localhost:8080/"
        },
        "outputId": "595ca552-9d9b-459f-f5e7-54fb0aa9fa43"
      },
      "execution_count": null,
      "outputs": [
        {
          "output_type": "stream",
          "name": "stdout",
          "text": [
            "Shape of the uncleaned data (columns, rows):  (731, 6)\n",
            "Shape of the cleaned data (columns, rows):  (712, 6)\n"
          ]
        }
      ]
    },
    {
      "cell_type": "markdown",
      "source": [
        "As we can see we remove the 19 data points with missing weight values from our dataframe. Now that our dataframe is cleaned we can finally start analyzing the data.\n",
        "\n"
      ],
      "metadata": {
        "id": "NyP01fFuW6u6"
      }
    },
    {
      "cell_type": "markdown",
      "source": [
        "## <font size = \"6\"> **Fitting the Model**"
      ],
      "metadata": {
        "id": "xdG9hyggZL2M"
      }
    },
    {
      "cell_type": "markdown",
      "source": [
        "### <font size = \"4\"> **Descriptive Statistics**"
      ],
      "metadata": {
        "id": "FPUrZNmqZ94F"
      }
    },
    {
      "cell_type": "markdown",
      "source": [
        "Before we specify the model we will first obtain summary statistics for our response variable weight. We will obtain the mean, median, standard deviation, minimum, and maximum values for weight."
      ],
      "metadata": {
        "id": "kETeVbBkZ94N"
      }
    },
    {
      "cell_type": "code",
      "source": [
        "#Get descriptive statistics for Pokemon's weight\n",
        "poke[\"weight_kg\"].agg([np.mean, np.median, np.std, np.max, np.min])"
      ],
      "metadata": {
        "colab": {
          "base_uri": "https://localhost:8080/"
        },
        "outputId": "746faeba-3bfb-4cb1-d11f-11800e147b12",
        "id": "wEPiFwvsZ94N"
      },
      "execution_count": null,
      "outputs": [
        {
          "output_type": "execute_result",
          "data": {
            "text/plain": [
              "mean       48.007163\n",
              "median     24.950000\n",
              "std        73.285822\n",
              "amax      920.000000\n",
              "amin        0.100000\n",
              "Name: weight_kg, dtype: float64"
            ]
          },
          "metadata": {},
          "execution_count": 13
        }
      ]
    },
    {
      "cell_type": "markdown",
      "source": [
        "As we can see the mean is 48.01 kg and the standard deviation is 73.29 kg. Our standard deviation is nearly twice the size of the mean, implying that our data is fairly spread out. Our dataset also has the potential for extreme outliers, this is evident when looking at the maximum which is 920 kg. Transformations may be needed to reduce the effect of these potential influence points."
      ],
      "metadata": {
        "id": "01f7JJy-Z94O"
      }
    },
    {
      "cell_type": "markdown",
      "source": [
        "### <font size = \"4\">**Scatterplot Matrix**"
      ],
      "metadata": {
        "id": "uE8k8OuVbup6"
      }
    },
    {
      "cell_type": "markdown",
      "source": [
        "We will now obtain a matrix of scatterplots for the data to see if there are any immediate concerns with the data."
      ],
      "metadata": {
        "id": "5F6YAZhtb4Dj"
      }
    },
    {
      "cell_type": "code",
      "source": [
        "#Scatterplot matrix for the Pokemon data\n",
        "sns.set_context(\"poster\")\n",
        "sns.set_style(\"ticks\")\n",
        "scattermatrix = sns.pairplot(poke)\n",
        "scattermatrix.fig.suptitle(\"Scatterplot Matrix of Data\", y = 1.04)\n",
        "plt.show()"
      ],
      "metadata": {
        "colab": {
          "base_uri": "https://localhost:8080/",
          "height": 1000
        },
        "id": "Pgi-JFUZcDEm",
        "outputId": "f3cd12e8-20dc-49d2-9d1f-8f2748cb0a07"
      },
      "execution_count": null,
      "outputs": [
        {
          "output_type": "display_data",
          "data": {
            "text/plain": [
              "<Figure size 1080x1080 with 42 Axes>"
            ],
            "image/png": "[encoded data removed]"
          },
          "metadata": {}
        }
      ]
    },
    {
      "cell_type": "markdown",
      "source": [
        "Looking at the matrix of scatterplots for the Pokemon data, we see that some of the scatterplots have rather odd patterns to them that may imply non-linearity in the data. The most concerning of which being the weight vs. hp scatterplot and the weight vs. speed scatterplot. Further it seems as though there may be some multicollinearity present within our data when looking at the row of height scatterplots, but this will need to be investigated more to confirm."
      ],
      "metadata": {
        "id": "Uj2Rk1dcFuVE"
      }
    },
    {
      "cell_type": "markdown",
      "source": [
        "### <font size = \"4\">**Specifying the Model**"
      ],
      "metadata": {
        "id": "Ug786mOVaIzh"
      }
    },
    {
      "cell_type": "markdown",
      "source": [
        "We will be predicting the response variable weight using the Pokemon's hp, attack, defense, and speed. Thus we will have the following model:\n",
        "$y= \\beta_{0} + \\beta_{1}x_{height} +  \\beta_{2}x_{hp} + \\beta_{3}x_{attack} + \\beta_{4}x_{defense} - \\beta_{5}x_{speed} + \\epsilon$\n",
        "<br>\n",
        "<br>\n",
        "The model assumes the following:\n",
        "\n",
        "* The relationship between a Pokemon's weight and the regressors is approximately linear\n",
        "* The error term $ϵ$ has zero mean and constant variance $σ^{2}$\n",
        "* The errors are uncorrelated and normally distributed"
      ],
      "metadata": {
        "id": "VE8OTe4AaOC5"
      }
    },
    {
      "cell_type": "markdown",
      "source": [
        "We will now fit the model."
      ],
      "metadata": {
        "id": "7fm2Ad3UIIze"
      }
    },
    {
      "cell_type": "code",
      "source": [
        "#Fit the linear model\n",
        "weightlm = ols(\"weight_kg ~ height_m + hp + attack + defense + speed\", data = poke).fit()"
      ],
      "metadata": {
        "id": "2v0nKOSYaaAv"
      },
      "execution_count": null,
      "outputs": []
    },
    {
      "cell_type": "markdown",
      "source": [
        "We now obtain and show the summary stats for the model."
      ],
      "metadata": {
        "id": "g2T9kbv-bHT9"
      }
    },
    {
      "cell_type": "code",
      "source": [
        "#Get a summary of the linear model\n",
        "weightlm_summary = weightlm.summary()\n",
        "print(weightlm_summary)"
      ],
      "metadata": {
        "colab": {
          "base_uri": "https://localhost:8080/"
        },
        "id": "8OfC_UJkbM5R",
        "outputId": "99da4cc7-7045-4af2-c918-85bfe6ae4b11"
      },
      "execution_count": null,
      "outputs": [
        {
          "output_type": "stream",
          "name": "stdout",
          "text": [
            "                            OLS Regression Results                            \n",
            "==============================================================================\n",
            "Dep. Variable:              weight_kg   R-squared:                       0.463\n",
            "Model:                            OLS   Adj. R-squared:                  0.459\n",
            "Method:                 Least Squares   F-statistic:                     121.6\n",
            "Date:                Wed, 04 Jan 2023   Prob (F-statistic):           9.63e-93\n",
            "Time:                        18:28:45   Log-Likelihood:                -3846.3\n",
            "No. Observations:                 712   AIC:                             7705.\n",
            "Df Residuals:                     706   BIC:                             7732.\n",
            "Df Model:                           5                                         \n",
            "Covariance Type:            nonrobust                                         \n",
            "==============================================================================\n",
            "                 coef    std err          t      P>|t|      [0.025      0.975]\n",
            "------------------------------------------------------------------------------\n",
            "Intercept    -59.3255      8.410     -7.054      0.000     -75.837     -42.814\n",
            "height_m      32.8316      2.575     12.748      0.000      27.775      37.888\n",
            "hp             0.4338      0.092      4.701      0.000       0.253       0.615\n",
            "attack         0.3608      0.083      4.331      0.000       0.197       0.524\n",
            "defense        0.5196      0.080      6.519      0.000       0.363       0.676\n",
            "speed         -0.3111      0.079     -3.953      0.000      -0.466      -0.157\n",
            "==============================================================================\n",
            "Omnibus:                      874.467   Durbin-Watson:                   1.853\n",
            "Prob(Omnibus):                  0.000   Jarque-Bera (JB):           139130.286\n",
            "Skew:                           5.947   Prob(JB):                         0.00\n",
            "Kurtosis:                      70.441   Cond. No.                         596.\n",
            "==============================================================================\n",
            "\n",
            "Notes:\n",
            "[1] Standard Errors assume that the covariance matrix of the errors is correctly specified.\n"
          ]
        }
      ]
    },
    {
      "cell_type": "markdown",
      "source": [
        "Our estimated regression line is:\n",
        "<br>\n",
        "$y=-59.3255 + 32.8316x_{height} +  0.4338x_{hp} + 0.3608x_{attack} + 0.5196x_{defense} - 0.3111x_{speed}$"
      ],
      "metadata": {
        "id": "oehdl4-Qbfoe"
      }
    },
    {
      "cell_type": "markdown",
      "source": [
        "The above model will be referred to as model 1 going forward. Immediately we see we have an intercept value of -59.3255, this value is outside of the y space and thus has no physical interpretation. Our slopes have the standard interpretation, for example with hp, given a one unit increase in a Pokemon’s hp we expect the mean of the distribution of weight to increase by 0.4338 kg holding height, attack, defense, and speed constant. Also of note is the $R^{2}$ value which has a value of 0.463 implying that 46.3% of the variation in a Pokemon’s weight is explained by the model. Before interpreting any of the hypothesis tests we will first need to validate the assumptions of the model and if necessary make any needed transformations to the data.\n"
      ],
      "metadata": {
        "id": "51850LTOHjJD"
      }
    },
    {
      "cell_type": "markdown",
      "source": [
        "## <font size = \"6\">**Model Validation for Model 1**"
      ],
      "metadata": {
        "id": "EFe4Xc-tsa71"
      }
    },
    {
      "cell_type": "markdown",
      "source": [
        "Our model assumes the following:\n",
        "\n",
        "- The relationship between a Pokemon's weight and the regressors is approximately linear\n",
        "- The error term $ϵ$ has zero mean and constant variance $σ^{2}$\n",
        "- The errors are uncorrelated and normally distributed"
      ],
      "metadata": {
        "id": "Bk45tlIpuHhu"
      }
    },
    {
      "cell_type": "markdown",
      "source": [
        "In this section we will validate these assumptions and if necessary take the proper actions."
      ],
      "metadata": {
        "id": "O6KPPGsiugwX"
      }
    },
    {
      "cell_type": "markdown",
      "source": [
        "### <font size = \"4\"> **Residuals Versus Fitted Values**"
      ],
      "metadata": {
        "id": "yW9wDijK3YZJ"
      }
    },
    {
      "cell_type": "code",
      "source": [],
      "metadata": {
        "id": "2HeVOGBFjM7b"
      },
      "execution_count": null,
      "outputs": []
    },
    {
      "cell_type": "markdown",
      "source": [
        " We will first look at a plot of the residuals versus fitted values to see if the linearity, constant variance, or zero mean assumption are violated. To do so we will create a data frame with the predictor values, the observed values, the values predicted by the model, and the corresponding residuals."
      ],
      "metadata": {
        "id": "TBZ-tDSdAc-P"
      }
    },
    {
      "cell_type": "code",
      "source": [
        "predictors = [\"height_m\", \"hp\", \"attack\", \"defense\", \"speed\"]\n",
        "\n",
        "#Create a new dataframe that will contain the predicted value and residual for each data point\n",
        "poke_predict = poke.copy()\n",
        "poke_predict = poke_predict[[\"height_m\", \"hp\", \"attack\", \"defense\", \"speed\", \"weight_kg\"]]\n",
        "\n",
        "#Calculate the predicted values and residual\n",
        "poke_predict[\"predicted\"] = weightlm.predict(poke_predict[predictors])\n",
        "poke_predict[\"residual\"] = poke_predict[\"weight_kg\"] - poke_predict[\"predicted\"]\n",
        "\n",
        "poke_predict.head()"
      ],
      "metadata": {
        "id": "JnLlvQwi3o04",
        "colab": {
          "base_uri": "https://localhost:8080/",
          "height": 237
        },
        "outputId": "5d9c60cd-3737-4d89-8bc7-126853ad6998"
      },
      "execution_count": null,
      "outputs": [
        {
          "output_type": "execute_result",
          "data": {
            "text/plain": [
              "            height_m  hp  attack  defense  speed  weight_kg   predicted  \\\n",
              "name                                                                      \n",
              "Bulbasaur        0.7  45      49       49     45        6.9   12.319002   \n",
              "Ivysaur          1.0  60      62       63     60       13.0   35.974216   \n",
              "Venusaur         2.0  80     100      123     80      100.0  116.146645   \n",
              "Charmander       0.6  39      52       43     65        8.5   -1.823826   \n",
              "Charmeleon       1.1  58      64       58     80       19.0   30.291767   \n",
              "\n",
              "             residual  \n",
              "name                   \n",
              "Bulbasaur   -5.419002  \n",
              "Ivysaur    -22.974216  \n",
              "Venusaur   -16.146645  \n",
              "Charmander  10.323826  \n",
              "Charmeleon -11.291767  "
            ],
            "text/html": [
              "\n",
              "  <div id=\"df-c979901f-034c-4e74-be3a-0140c8690672\">\n",
              "    <div class=\"colab-df-container\">\n",
              "      <div>\n",
              "<style scoped>\n",
              "    .dataframe tbody tr th:only-of-type {\n",
              "        vertical-align: middle;\n",
              "    }\n",
              "\n",
              "    .dataframe tbody tr th {\n",
              "        vertical-align: top;\n",
              "    }\n",
              "\n",
              "    .dataframe thead th {\n",
              "        text-align: right;\n",
              "    }\n",
              "</style>\n",
              "<table border=\"1\" class=\"dataframe\">\n",
              "  <thead>\n",
              "    <tr style=\"text-align: right;\">\n",
              "      <th></th>\n",
              "      <th>height_m</th>\n",
              "      <th>hp</th>\n",
              "      <th>attack</th>\n",
              "      <th>defense</th>\n",
              "      <th>speed</th>\n",
              "      <th>weight_kg</th>\n",
              "      <th>predicted</th>\n",
              "      <th>residual</th>\n",
              "    </tr>\n",
              "    <tr>\n",
              "      <th>name</th>\n",
              "      <th></th>\n",
              "      <th></th>\n",
              "      <th></th>\n",
              "      <th></th>\n",
              "      <th></th>\n",
              "      <th></th>\n",
              "      <th></th>\n",
              "      <th></th>\n",
              "    </tr>\n",
              "  </thead>\n",
              "  <tbody>\n",
              "    <tr>\n",
              "      <th>Bulbasaur</th>\n",
              "      <td>0.7</td>\n",
              "      <td>45</td>\n",
              "      <td>49</td>\n",
              "      <td>49</td>\n",
              "      <td>45</td>\n",
              "      <td>6.9</td>\n",
              "      <td>12.319002</td>\n",
              "      <td>-5.419002</td>\n",
              "    </tr>\n",
              "    <tr>\n",
              "      <th>Ivysaur</th>\n",
              "      <td>1.0</td>\n",
              "      <td>60</td>\n",
              "      <td>62</td>\n",
              "      <td>63</td>\n",
              "      <td>60</td>\n",
              "      <td>13.0</td>\n",
              "      <td>35.974216</td>\n",
              "      <td>-22.974216</td>\n",
              "    </tr>\n",
              "    <tr>\n",
              "      <th>Venusaur</th>\n",
              "      <td>2.0</td>\n",
              "      <td>80</td>\n",
              "      <td>100</td>\n",
              "      <td>123</td>\n",
              "      <td>80</td>\n",
              "      <td>100.0</td>\n",
              "      <td>116.146645</td>\n",
              "      <td>-16.146645</td>\n",
              "    </tr>\n",
              "    <tr>\n",
              "      <th>Charmander</th>\n",
              "      <td>0.6</td>\n",
              "      <td>39</td>\n",
              "      <td>52</td>\n",
              "      <td>43</td>\n",
              "      <td>65</td>\n",
              "      <td>8.5</td>\n",
              "      <td>-1.823826</td>\n",
              "      <td>10.323826</td>\n",
              "    </tr>\n",
              "    <tr>\n",
              "      <th>Charmeleon</th>\n",
              "      <td>1.1</td>\n",
              "      <td>58</td>\n",
              "      <td>64</td>\n",
              "      <td>58</td>\n",
              "      <td>80</td>\n",
              "      <td>19.0</td>\n",
              "      <td>30.291767</td>\n",
              "      <td>-11.291767</td>\n",
              "    </tr>\n",
              "  </tbody>\n",
              "</table>\n",
              "</div>\n",
              "      <button class=\"colab-df-convert\" onclick=\"convertToInteractive('df-c979901f-034c-4e74-be3a-0140c8690672')\"\n",
              "              title=\"Convert this dataframe to an interactive table.\"\n",
              "              style=\"display:none;\">\n",
              "        \n",
              "  <svg xmlns=\"http://www.w3.org/2000/svg\" height=\"24px\"viewBox=\"0 0 24 24\"\n",
              "       width=\"24px\">\n",
              "    <path d=\"M0 0h24v24H0V0z\" fill=\"none\"/>\n",
              "    <path d=\"M18.56 5.44l.94 2.06.94-2.06 2.06-.94-2.06-.94-.94-2.06-.94 2.06-2.06.94zm-11 1L8.5 8.5l.94-2.06 2.06-.94-2.06-.94L8.5 2.5l-.94 2.06-2.06.94zm10 10l.94 2.06.94-2.06 2.06-.94-2.06-.94-.94-2.06-.94 2.06-2.06.94z\"/><path d=\"M17.41 7.96l-1.37-1.37c-.4-.4-.92-.59-1.43-.59-.52 0-1.04.2-1.43.59L10.3 9.45l-7.72 7.72c-.78.78-.78 2.05 0 2.83L4 21.41c.39.39.9.59 1.41.59.51 0 1.02-.2 1.41-.59l7.78-7.78 2.81-2.81c.8-.78.8-2.07 0-2.86zM5.41 20L4 18.59l7.72-7.72 1.47 1.35L5.41 20z\"/>\n",
              "  </svg>\n",
              "      </button>\n",
              "      \n",
              "  <style>\n",
              "    .colab-df-container {\n",
              "      display:flex;\n",
              "      flex-wrap:wrap;\n",
              "      gap: 12px;\n",
              "    }\n",
              "\n",
              "    .colab-df-convert {\n",
              "      background-color: #E8F0FE;\n",
              "      border: none;\n",
              "      border-radius: 50%;\n",
              "      cursor: pointer;\n",
              "      display: none;\n",
              "      fill: #1967D2;\n",
              "      height: 32px;\n",
              "      padding: 0 0 0 0;\n",
              "      width: 32px;\n",
              "    }\n",
              "\n",
              "    .colab-df-convert:hover {\n",
              "      background-color: #E2EBFA;\n",
              "      box-shadow: 0px 1px 2px rgba(60, 64, 67, 0.3), 0px 1px 3px 1px rgba(60, 64, 67, 0.15);\n",
              "      fill: #174EA6;\n",
              "    }\n",
              "\n",
              "    [theme=dark] .colab-df-convert {\n",
              "      background-color: #3B4455;\n",
              "      fill: #D2E3FC;\n",
              "    }\n",
              "\n",
              "    [theme=dark] .colab-df-convert:hover {\n",
              "      background-color: #434B5C;\n",
              "      box-shadow: 0px 1px 3px 1px rgba(0, 0, 0, 0.15);\n",
              "      filter: drop-shadow(0px 1px 2px rgba(0, 0, 0, 0.3));\n",
              "      fill: #FFFFFF;\n",
              "    }\n",
              "  </style>\n",
              "\n",
              "      <script>\n",
              "        const buttonEl =\n",
              "          document.querySelector('#df-c979901f-034c-4e74-be3a-0140c8690672 button.colab-df-convert');\n",
              "        buttonEl.style.display =\n",
              "          google.colab.kernel.accessAllowed ? 'block' : 'none';\n",
              "\n",
              "        async function convertToInteractive(key) {\n",
              "          const element = document.querySelector('#df-c979901f-034c-4e74-be3a-0140c8690672');\n",
              "          const dataTable =\n",
              "            await google.colab.kernel.invokeFunction('convertToInteractive',\n",
              "                                                     [key], {});\n",
              "          if (!dataTable) return;\n",
              "\n",
              "          const docLinkHtml = 'Like what you see? Visit the ' +\n",
              "            '<a target=\"_blank\" href=https://colab.research.google.com/notebooks/data_table.ipynb>data table notebook</a>'\n",
              "            + ' to learn more about interactive tables.';\n",
              "          element.innerHTML = '';\n",
              "          dataTable['output_type'] = 'display_data';\n",
              "          await google.colab.output.renderOutput(dataTable, element);\n",
              "          const docLink = document.createElement('div');\n",
              "          docLink.innerHTML = docLinkHtml;\n",
              "          element.appendChild(docLink);\n",
              "        }\n",
              "      </script>\n",
              "    </div>\n",
              "  </div>\n",
              "  "
            ]
          },
          "metadata": {},
          "execution_count": 17
        }
      ]
    },
    {
      "cell_type": "markdown",
      "source": [
        "We now display the residual versus fitted values plot"
      ],
      "metadata": {
        "id": "nLkuGofzB7Tf"
      }
    },
    {
      "cell_type": "code",
      "source": [
        "#Create residual versus fitted values plot\n",
        "sns.set(rc = {'figure.figsize': (12, 9)})\n",
        "sns.set_style(\"ticks\")\n",
        "sns.regplot(x = poke_predict[\"residual\"], y = poke_predict[\"predicted\"], ci = None, scatter_kws = {\"color\":\"blue\"}, line_kws = {\"color\":\"red\"})\n",
        "plt.title(\"Residuals Versus Fitted Values Plot\", fontsize = 20)\n",
        "plt.xlabel(\"Residuals\", fontsize = 14)\n",
        "plt.ylabel(\"Fitted Values\", fontsize = 14)\n",
        "plt.show()"
      ],
      "metadata": {
        "colab": {
          "base_uri": "https://localhost:8080/",
          "height": 579
        },
        "id": "B8SzgGeM-uWy",
        "outputId": "fdfe0833-a99a-45d6-ba86-aa8e5625692e"
      },
      "execution_count": null,
      "outputs": [
        {
          "output_type": "display_data",
          "data": {
            "text/plain": [
              "<Figure size 864x648 with 1 Axes>"
            ],
            "image/png": "[encoded data removed]"
          },
          "metadata": {}
        }
      ]
    },
    {
      "cell_type": "markdown",
      "source": [
        "Immediately from the residual versus fitted values plot for model 1 we see that there are many outliers. Visually, they are in the upper left portion, and also expand towards the right portion of the plot. There does also seem to be some non-linearity in the data as the points look to create a \"parabola\" or curved shape. Therefore, we can not verify the linearity assumption."
      ],
      "metadata": {
        "id": "92MYRXHiG68r"
      }
    },
    {
      "cell_type": "markdown",
      "source": [
        "### <font size = \"4\"> **QQ Plot**"
      ],
      "metadata": {
        "id": "IwKT1eGTHda3"
      }
    },
    {
      "cell_type": "markdown",
      "source": [
        "We now look at the normal Q-Q plot for model 1 to check that the errors follow a normal distribution."
      ],
      "metadata": {
        "id": "5sgGMaH6HkJN"
      }
    },
    {
      "cell_type": "code",
      "source": [
        "#Obtain a Q-Q plot for the residuals\n",
        "qqplot(data = poke_predict[\"residual\"], fit = True, line = \"45\")\n",
        "plt.title(\"Normal Q-Q Plot\", fontsize = 20)\n",
        "plt.xlabel(\"Theoretical Quantiles\", fontsize = 14)\n",
        "plt.ylabel(\"Sample Quantiles\", fontsize = 14)\n",
        "plt.show()"
      ],
      "metadata": {
        "colab": {
          "base_uri": "https://localhost:8080/",
          "height": 579
        },
        "id": "gjCyufn5HtY1",
        "outputId": "fadca371-b46e-4745-9ba4-2d06b49026d6"
      },
      "execution_count": null,
      "outputs": [
        {
          "output_type": "display_data",
          "data": {
            "text/plain": [
              "<Figure size 864x648 with 1 Axes>"
            ],
            "image/png": "[encoded data removed]"
          },
          "metadata": {}
        }
      ]
    },
    {
      "cell_type": "markdown",
      "source": [
        "The non-linearity discussed with the residuals versus fitted values plot seems to appear once again in the normal Q-Q plot for model 1. There is also a major outlier towards the upper portion of the plot. Further the points fail to approximately fall on the straight line, thus our model violates the linearity and normality assumptions. "
      ],
      "metadata": {
        "id": "3JUVHqS4IkNz"
      }
    },
    {
      "cell_type": "markdown",
      "source": [
        "## <font size = \"6\"> **Transforming the Data**"
      ],
      "metadata": {
        "id": "cW40B0pKJbYF"
      }
    },
    {
      "cell_type": "markdown",
      "source": [
        "We will first attempt a log transformation on the response to see if it helps our data satistfy the linearity and normality assumption. If that fails we will use a box-cox transformation on the response."
      ],
      "metadata": {
        "id": "uB_d1vmPXg7A"
      }
    },
    {
      "cell_type": "markdown",
      "source": [
        "### <font size = \"4\"> **Log Transformation on the Response** "
      ],
      "metadata": {
        "id": "XKLjcFwRY16W"
      }
    },
    {
      "cell_type": "markdown",
      "source": [
        "We create a dataframe with a log transformation applied to the response."
      ],
      "metadata": {
        "id": "RslX6L7bKUHs"
      }
    },
    {
      "cell_type": "code",
      "source": [
        "log_data = poke.copy()\n",
        "\n",
        "#Create a log(weight_kg) variable in the data frame\n",
        "log_data[\"log_weight_kg\"] = np.log(log_data[\"weight_kg\"])\n",
        "\n",
        "#Remove original response from dataframe\n",
        "log_data.drop(\"weight_kg\", axis = 1, inplace = True)\n",
        "\n",
        "log_data = log_data[[\"log_weight_kg\", \"hp\", \"height_m\", \"attack\", \"defense\", \"speed\"]]\n",
        "log_data.head()"
      ],
      "metadata": {
        "colab": {
          "base_uri": "https://localhost:8080/",
          "height": 237
        },
        "id": "4LmZmQcYJvX9",
        "outputId": "ffaf7058-d737-4781-88bd-676fa309512d"
      },
      "execution_count": null,
      "outputs": [
        {
          "output_type": "execute_result",
          "data": {
            "text/plain": [
              "            log_weight_kg  hp  height_m  attack  defense  speed\n",
              "name                                                           \n",
              "Bulbasaur        1.931521  45       0.7      49       49     45\n",
              "Ivysaur          2.564949  60       1.0      62       63     60\n",
              "Venusaur         4.605170  80       2.0     100      123     80\n",
              "Charmander       2.140066  39       0.6      52       43     65\n",
              "Charmeleon       2.944439  58       1.1      64       58     80"
            ],
            "text/html": [
              "\n",
              "  <div id=\"df-0035c2da-d123-4ef5-96a9-e2491aeff2aa\">\n",
              "    <div class=\"colab-df-container\">\n",
              "      <div>\n",
              "<style scoped>\n",
              "    .dataframe tbody tr th:only-of-type {\n",
              "        vertical-align: middle;\n",
              "    }\n",
              "\n",
              "    .dataframe tbody tr th {\n",
              "        vertical-align: top;\n",
              "    }\n",
              "\n",
              "    .dataframe thead th {\n",
              "        text-align: right;\n",
              "    }\n",
              "</style>\n",
              "<table border=\"1\" class=\"dataframe\">\n",
              "  <thead>\n",
              "    <tr style=\"text-align: right;\">\n",
              "      <th></th>\n",
              "      <th>log_weight_kg</th>\n",
              "      <th>hp</th>\n",
              "      <th>height_m</th>\n",
              "      <th>attack</th>\n",
              "      <th>defense</th>\n",
              "      <th>speed</th>\n",
              "    </tr>\n",
              "    <tr>\n",
              "      <th>name</th>\n",
              "      <th></th>\n",
              "      <th></th>\n",
              "      <th></th>\n",
              "      <th></th>\n",
              "      <th></th>\n",
              "      <th></th>\n",
              "    </tr>\n",
              "  </thead>\n",
              "  <tbody>\n",
              "    <tr>\n",
              "      <th>Bulbasaur</th>\n",
              "      <td>1.931521</td>\n",
              "      <td>45</td>\n",
              "      <td>0.7</td>\n",
              "      <td>49</td>\n",
              "      <td>49</td>\n",
              "      <td>45</td>\n",
              "    </tr>\n",
              "    <tr>\n",
              "      <th>Ivysaur</th>\n",
              "      <td>2.564949</td>\n",
              "      <td>60</td>\n",
              "      <td>1.0</td>\n",
              "      <td>62</td>\n",
              "      <td>63</td>\n",
              "      <td>60</td>\n",
              "    </tr>\n",
              "    <tr>\n",
              "      <th>Venusaur</th>\n",
              "      <td>4.605170</td>\n",
              "      <td>80</td>\n",
              "      <td>2.0</td>\n",
              "      <td>100</td>\n",
              "      <td>123</td>\n",
              "      <td>80</td>\n",
              "    </tr>\n",
              "    <tr>\n",
              "      <th>Charmander</th>\n",
              "      <td>2.140066</td>\n",
              "      <td>39</td>\n",
              "      <td>0.6</td>\n",
              "      <td>52</td>\n",
              "      <td>43</td>\n",
              "      <td>65</td>\n",
              "    </tr>\n",
              "    <tr>\n",
              "      <th>Charmeleon</th>\n",
              "      <td>2.944439</td>\n",
              "      <td>58</td>\n",
              "      <td>1.1</td>\n",
              "      <td>64</td>\n",
              "      <td>58</td>\n",
              "      <td>80</td>\n",
              "    </tr>\n",
              "  </tbody>\n",
              "</table>\n",
              "</div>\n",
              "      <button class=\"colab-df-convert\" onclick=\"convertToInteractive('df-0035c2da-d123-4ef5-96a9-e2491aeff2aa')\"\n",
              "              title=\"Convert this dataframe to an interactive table.\"\n",
              "              style=\"display:none;\">\n",
              "        \n",
              "  <svg xmlns=\"http://www.w3.org/2000/svg\" height=\"24px\"viewBox=\"0 0 24 24\"\n",
              "       width=\"24px\">\n",
              "    <path d=\"M0 0h24v24H0V0z\" fill=\"none\"/>\n",
              "    <path d=\"M18.56 5.44l.94 2.06.94-2.06 2.06-.94-2.06-.94-.94-2.06-.94 2.06-2.06.94zm-11 1L8.5 8.5l.94-2.06 2.06-.94-2.06-.94L8.5 2.5l-.94 2.06-2.06.94zm10 10l.94 2.06.94-2.06 2.06-.94-2.06-.94-.94-2.06-.94 2.06-2.06.94z\"/><path d=\"M17.41 7.96l-1.37-1.37c-.4-.4-.92-.59-1.43-.59-.52 0-1.04.2-1.43.59L10.3 9.45l-7.72 7.72c-.78.78-.78 2.05 0 2.83L4 21.41c.39.39.9.59 1.41.59.51 0 1.02-.2 1.41-.59l7.78-7.78 2.81-2.81c.8-.78.8-2.07 0-2.86zM5.41 20L4 18.59l7.72-7.72 1.47 1.35L5.41 20z\"/>\n",
              "  </svg>\n",
              "      </button>\n",
              "      \n",
              "  <style>\n",
              "    .colab-df-container {\n",
              "      display:flex;\n",
              "      flex-wrap:wrap;\n",
              "      gap: 12px;\n",
              "    }\n",
              "\n",
              "    .colab-df-convert {\n",
              "      background-color: #E8F0FE;\n",
              "      border: none;\n",
              "      border-radius: 50%;\n",
              "      cursor: pointer;\n",
              "      display: none;\n",
              "      fill: #1967D2;\n",
              "      height: 32px;\n",
              "      padding: 0 0 0 0;\n",
              "      width: 32px;\n",
              "    }\n",
              "\n",
              "    .colab-df-convert:hover {\n",
              "      background-color: #E2EBFA;\n",
              "      box-shadow: 0px 1px 2px rgba(60, 64, 67, 0.3), 0px 1px 3px 1px rgba(60, 64, 67, 0.15);\n",
              "      fill: #174EA6;\n",
              "    }\n",
              "\n",
              "    [theme=dark] .colab-df-convert {\n",
              "      background-color: #3B4455;\n",
              "      fill: #D2E3FC;\n",
              "    }\n",
              "\n",
              "    [theme=dark] .colab-df-convert:hover {\n",
              "      background-color: #434B5C;\n",
              "      box-shadow: 0px 1px 3px 1px rgba(0, 0, 0, 0.15);\n",
              "      filter: drop-shadow(0px 1px 2px rgba(0, 0, 0, 0.3));\n",
              "      fill: #FFFFFF;\n",
              "    }\n",
              "  </style>\n",
              "\n",
              "      <script>\n",
              "        const buttonEl =\n",
              "          document.querySelector('#df-0035c2da-d123-4ef5-96a9-e2491aeff2aa button.colab-df-convert');\n",
              "        buttonEl.style.display =\n",
              "          google.colab.kernel.accessAllowed ? 'block' : 'none';\n",
              "\n",
              "        async function convertToInteractive(key) {\n",
              "          const element = document.querySelector('#df-0035c2da-d123-4ef5-96a9-e2491aeff2aa');\n",
              "          const dataTable =\n",
              "            await google.colab.kernel.invokeFunction('convertToInteractive',\n",
              "                                                     [key], {});\n",
              "          if (!dataTable) return;\n",
              "\n",
              "          const docLinkHtml = 'Like what you see? Visit the ' +\n",
              "            '<a target=\"_blank\" href=https://colab.research.google.com/notebooks/data_table.ipynb>data table notebook</a>'\n",
              "            + ' to learn more about interactive tables.';\n",
              "          element.innerHTML = '';\n",
              "          dataTable['output_type'] = 'display_data';\n",
              "          await google.colab.output.renderOutput(dataTable, element);\n",
              "          const docLink = document.createElement('div');\n",
              "          docLink.innerHTML = docLinkHtml;\n",
              "          element.appendChild(docLink);\n",
              "        }\n",
              "      </script>\n",
              "    </div>\n",
              "  </div>\n",
              "  "
            ]
          },
          "metadata": {},
          "execution_count": 20
        }
      ]
    },
    {
      "cell_type": "markdown",
      "source": [
        "Now that we have our log transformed data frame, we will fit a linear model with a log response. This model will be referred to as model 2."
      ],
      "metadata": {
        "id": "cC85u5NgZnrR"
      }
    },
    {
      "cell_type": "code",
      "source": [
        "#Fit the log response linear model\n",
        "loglm = ols(\"log_weight_kg ~ height_m + hp + attack + defense + speed\", data = log_data).fit()\n",
        "loglm_summary = loglm.summary()\n",
        "print(loglm_summary)"
      ],
      "metadata": {
        "colab": {
          "base_uri": "https://localhost:8080/"
        },
        "id": "_0AyVYNRKgWT",
        "outputId": "6e31b59c-a6f1-4943-978c-4de813956db4"
      },
      "execution_count": null,
      "outputs": [
        {
          "output_type": "stream",
          "name": "stdout",
          "text": [
            "                            OLS Regression Results                            \n",
            "==============================================================================\n",
            "Dep. Variable:          log_weight_kg   R-squared:                       0.507\n",
            "Model:                            OLS   Adj. R-squared:                  0.503\n",
            "Method:                 Least Squares   F-statistic:                     145.0\n",
            "Date:                Wed, 04 Jan 2023   Prob (F-statistic):          8.48e-106\n",
            "Time:                        18:28:45   Log-Likelihood:                -1012.4\n",
            "No. Observations:                 712   AIC:                             2037.\n",
            "Df Residuals:                     706   BIC:                             2064.\n",
            "Df Model:                           5                                         \n",
            "Covariance Type:            nonrobust                                         \n",
            "==============================================================================\n",
            "                 coef    std err          t      P>|t|      [0.025      0.975]\n",
            "------------------------------------------------------------------------------\n",
            "Intercept      0.1158      0.157      0.737      0.461      -0.193       0.424\n",
            "height_m       0.4765      0.048      9.903      0.000       0.382       0.571\n",
            "hp             0.0139      0.002      8.080      0.000       0.011       0.017\n",
            "attack         0.0102      0.002      6.548      0.000       0.007       0.013\n",
            "defense        0.0102      0.001      6.845      0.000       0.007       0.013\n",
            "speed          0.0004      0.001      0.264      0.792      -0.002       0.003\n",
            "==============================================================================\n",
            "Omnibus:                      169.831   Durbin-Watson:                   1.584\n",
            "Prob(Omnibus):                  0.000   Jarque-Bera (JB):              478.953\n",
            "Skew:                          -1.178   Prob(JB):                    9.92e-105\n",
            "Kurtosis:                       6.255   Cond. No.                         596.\n",
            "==============================================================================\n",
            "\n",
            "Notes:\n",
            "[1] Standard Errors assume that the covariance matrix of the errors is correctly specified.\n"
          ]
        }
      ]
    },
    {
      "cell_type": "markdown",
      "source": [
        "Before we look to verify our assumptions we will note that the $R^{2}$ slightly improved to 0.507 compared to model 1 which had a $R^{2}$ value of 0.463. We will now check to see if normality is satisfied."
      ],
      "metadata": {
        "id": "BGTY2vn6b4nO"
      }
    },
    {
      "cell_type": "code",
      "source": [
        "#Q-Q plot for the log transformed data\n",
        "qqplot(data = loglm.resid, fit = True, line = \"45\")\n",
        "plt.title(\"Normal Q-Q Plot\", fontsize = 20)\n",
        "plt.xlabel(\"Theoretical Quantiles\", fontsize = 14)\n",
        "plt.ylabel(\"Sample Quantiles\", fontsize = 14)\n",
        "plt.show()"
      ],
      "metadata": {
        "colab": {
          "base_uri": "https://localhost:8080/",
          "height": 579
        },
        "id": "96jwjTDZLGEU",
        "outputId": "d1e852b4-1df8-4b2b-9fc8-463d8680aa86"
      },
      "execution_count": null,
      "outputs": [
        {
          "output_type": "display_data",
          "data": {
            "text/plain": [
              "<Figure size 864x648 with 1 Axes>"
            ],
            "image/png": "[encoded data removed]"
          },
          "metadata": {}
        }
      ]
    },
    {
      "cell_type": "markdown",
      "source": [
        "There is still a heavy tail on the data, implying that the normality assumption is still violated with the log transformed data. We will attempt to fix this with another transformation, namely, the box-cox transformation."
      ],
      "metadata": {
        "id": "Z6km_Uv1ciBM"
      }
    },
    {
      "cell_type": "markdown",
      "source": [
        "### <font size = \"4\"> **Box-Cox Transformation**"
      ],
      "metadata": {
        "id": "5fl8KUuUcyWs"
      }
    },
    {
      "cell_type": "markdown",
      "source": [
        "The box-cox transformation looks to find the optimal value for an exponent variable $λ$. This optimal value of $λ$ is the value of  $λ$ that when applied to the response most closely resembles a normal curve (when plotted) "
      ],
      "metadata": {
        "id": "d7xoJxTidBFx"
      }
    },
    {
      "cell_type": "code",
      "source": [
        "#Apply the box-cox transformation to the response\n",
        "transformed_data, lambda_value = boxcox(poke[\"weight_kg\"])\n",
        "lambda_value"
      ],
      "metadata": {
        "colab": {
          "base_uri": "https://localhost:8080/"
        },
        "id": "UI4_mHOkSZQG",
        "outputId": "367ec4c3-c9ac-4c2a-c93f-c6883e7a4d35"
      },
      "execution_count": null,
      "outputs": [
        {
          "output_type": "execute_result",
          "data": {
            "text/plain": [
              "0.1282783009904318"
            ]
          },
          "metadata": {},
          "execution_count": 23
        }
      ]
    },
    {
      "cell_type": "markdown",
      "source": [
        "We have found  $λ$ = 0.128278, and have applied this value to the response. We will now create a data frame with the transformed data and see if this data satisfies the assumption of linear regression. After the creation of the data frame we will fit a linear model to the transformed data. This model will be referred to as model 3."
      ],
      "metadata": {
        "id": "oNemb9I4ekNM"
      }
    },
    {
      "cell_type": "code",
      "source": [
        "box_cox_data = poke.copy()\n",
        "\n",
        "#Create a column with the transformed data\n",
        "box_cox_data[\"transformed_weight_kg\"] = transformed_data\n",
        "\n",
        "#Drop the original data from the data frame\n",
        "box_cox_data.drop(\"weight_kg\", axis = 1, inplace = True)\n",
        "\n",
        "box_cox_data.head()"
      ],
      "metadata": {
        "colab": {
          "base_uri": "https://localhost:8080/",
          "height": 237
        },
        "id": "sycbCQ4oT_rV",
        "outputId": "1e5bcb77-7d22-4c96-ea07-9eeb4bec08fa"
      },
      "execution_count": null,
      "outputs": [
        {
          "output_type": "execute_result",
          "data": {
            "text/plain": [
              "            height_m  hp  attack  defense  speed  transformed_weight_kg\n",
              "name                                                                   \n",
              "Bulbasaur        0.7  45      49       49     45               2.191861\n",
              "Ivysaur          1.0  60      62       63     60               3.037270\n",
              "Venusaur         2.0  80     100      123     80               6.277991\n",
              "Charmander       0.6  39      52       43     65               2.462647\n",
              "Charmeleon       1.1  58      64       58     80               3.577661"
            ],
            "text/html": [
              "\n",
              "  <div id=\"df-ac6c1862-4b67-49dd-8178-2aaba6d23bf7\">\n",
              "    <div class=\"colab-df-container\">\n",
              "      <div>\n",
              "<style scoped>\n",
              "    .dataframe tbody tr th:only-of-type {\n",
              "        vertical-align: middle;\n",
              "    }\n",
              "\n",
              "    .dataframe tbody tr th {\n",
              "        vertical-align: top;\n",
              "    }\n",
              "\n",
              "    .dataframe thead th {\n",
              "        text-align: right;\n",
              "    }\n",
              "</style>\n",
              "<table border=\"1\" class=\"dataframe\">\n",
              "  <thead>\n",
              "    <tr style=\"text-align: right;\">\n",
              "      <th></th>\n",
              "      <th>height_m</th>\n",
              "      <th>hp</th>\n",
              "      <th>attack</th>\n",
              "      <th>defense</th>\n",
              "      <th>speed</th>\n",
              "      <th>transformed_weight_kg</th>\n",
              "    </tr>\n",
              "    <tr>\n",
              "      <th>name</th>\n",
              "      <th></th>\n",
              "      <th></th>\n",
              "      <th></th>\n",
              "      <th></th>\n",
              "      <th></th>\n",
              "      <th></th>\n",
              "    </tr>\n",
              "  </thead>\n",
              "  <tbody>\n",
              "    <tr>\n",
              "      <th>Bulbasaur</th>\n",
              "      <td>0.7</td>\n",
              "      <td>45</td>\n",
              "      <td>49</td>\n",
              "      <td>49</td>\n",
              "      <td>45</td>\n",
              "      <td>2.191861</td>\n",
              "    </tr>\n",
              "    <tr>\n",
              "      <th>Ivysaur</th>\n",
              "      <td>1.0</td>\n",
              "      <td>60</td>\n",
              "      <td>62</td>\n",
              "      <td>63</td>\n",
              "      <td>60</td>\n",
              "      <td>3.037270</td>\n",
              "    </tr>\n",
              "    <tr>\n",
              "      <th>Venusaur</th>\n",
              "      <td>2.0</td>\n",
              "      <td>80</td>\n",
              "      <td>100</td>\n",
              "      <td>123</td>\n",
              "      <td>80</td>\n",
              "      <td>6.277991</td>\n",
              "    </tr>\n",
              "    <tr>\n",
              "      <th>Charmander</th>\n",
              "      <td>0.6</td>\n",
              "      <td>39</td>\n",
              "      <td>52</td>\n",
              "      <td>43</td>\n",
              "      <td>65</td>\n",
              "      <td>2.462647</td>\n",
              "    </tr>\n",
              "    <tr>\n",
              "      <th>Charmeleon</th>\n",
              "      <td>1.1</td>\n",
              "      <td>58</td>\n",
              "      <td>64</td>\n",
              "      <td>58</td>\n",
              "      <td>80</td>\n",
              "      <td>3.577661</td>\n",
              "    </tr>\n",
              "  </tbody>\n",
              "</table>\n",
              "</div>\n",
              "      <button class=\"colab-df-convert\" onclick=\"convertToInteractive('df-ac6c1862-4b67-49dd-8178-2aaba6d23bf7')\"\n",
              "              title=\"Convert this dataframe to an interactive table.\"\n",
              "              style=\"display:none;\">\n",
              "        \n",
              "  <svg xmlns=\"http://www.w3.org/2000/svg\" height=\"24px\"viewBox=\"0 0 24 24\"\n",
              "       width=\"24px\">\n",
              "    <path d=\"M0 0h24v24H0V0z\" fill=\"none\"/>\n",
              "    <path d=\"M18.56 5.44l.94 2.06.94-2.06 2.06-.94-2.06-.94-.94-2.06-.94 2.06-2.06.94zm-11 1L8.5 8.5l.94-2.06 2.06-.94-2.06-.94L8.5 2.5l-.94 2.06-2.06.94zm10 10l.94 2.06.94-2.06 2.06-.94-2.06-.94-.94-2.06-.94 2.06-2.06.94z\"/><path d=\"M17.41 7.96l-1.37-1.37c-.4-.4-.92-.59-1.43-.59-.52 0-1.04.2-1.43.59L10.3 9.45l-7.72 7.72c-.78.78-.78 2.05 0 2.83L4 21.41c.39.39.9.59 1.41.59.51 0 1.02-.2 1.41-.59l7.78-7.78 2.81-2.81c.8-.78.8-2.07 0-2.86zM5.41 20L4 18.59l7.72-7.72 1.47 1.35L5.41 20z\"/>\n",
              "  </svg>\n",
              "      </button>\n",
              "      \n",
              "  <style>\n",
              "    .colab-df-container {\n",
              "      display:flex;\n",
              "      flex-wrap:wrap;\n",
              "      gap: 12px;\n",
              "    }\n",
              "\n",
              "    .colab-df-convert {\n",
              "      background-color: #E8F0FE;\n",
              "      border: none;\n",
              "      border-radius: 50%;\n",
              "      cursor: pointer;\n",
              "      display: none;\n",
              "      fill: #1967D2;\n",
              "      height: 32px;\n",
              "      padding: 0 0 0 0;\n",
              "      width: 32px;\n",
              "    }\n",
              "\n",
              "    .colab-df-convert:hover {\n",
              "      background-color: #E2EBFA;\n",
              "      box-shadow: 0px 1px 2px rgba(60, 64, 67, 0.3), 0px 1px 3px 1px rgba(60, 64, 67, 0.15);\n",
              "      fill: #174EA6;\n",
              "    }\n",
              "\n",
              "    [theme=dark] .colab-df-convert {\n",
              "      background-color: #3B4455;\n",
              "      fill: #D2E3FC;\n",
              "    }\n",
              "\n",
              "    [theme=dark] .colab-df-convert:hover {\n",
              "      background-color: #434B5C;\n",
              "      box-shadow: 0px 1px 3px 1px rgba(0, 0, 0, 0.15);\n",
              "      filter: drop-shadow(0px 1px 2px rgba(0, 0, 0, 0.3));\n",
              "      fill: #FFFFFF;\n",
              "    }\n",
              "  </style>\n",
              "\n",
              "      <script>\n",
              "        const buttonEl =\n",
              "          document.querySelector('#df-ac6c1862-4b67-49dd-8178-2aaba6d23bf7 button.colab-df-convert');\n",
              "        buttonEl.style.display =\n",
              "          google.colab.kernel.accessAllowed ? 'block' : 'none';\n",
              "\n",
              "        async function convertToInteractive(key) {\n",
              "          const element = document.querySelector('#df-ac6c1862-4b67-49dd-8178-2aaba6d23bf7');\n",
              "          const dataTable =\n",
              "            await google.colab.kernel.invokeFunction('convertToInteractive',\n",
              "                                                     [key], {});\n",
              "          if (!dataTable) return;\n",
              "\n",
              "          const docLinkHtml = 'Like what you see? Visit the ' +\n",
              "            '<a target=\"_blank\" href=https://colab.research.google.com/notebooks/data_table.ipynb>data table notebook</a>'\n",
              "            + ' to learn more about interactive tables.';\n",
              "          element.innerHTML = '';\n",
              "          dataTable['output_type'] = 'display_data';\n",
              "          await google.colab.output.renderOutput(dataTable, element);\n",
              "          const docLink = document.createElement('div');\n",
              "          docLink.innerHTML = docLinkHtml;\n",
              "          element.appendChild(docLink);\n",
              "        }\n",
              "      </script>\n",
              "    </div>\n",
              "  </div>\n",
              "  "
            ]
          },
          "metadata": {},
          "execution_count": 24
        }
      ]
    },
    {
      "cell_type": "code",
      "source": [
        "#Create a linear model with the transformed data\n",
        "boxlm = ols(\"transformed_weight_kg ~ height_m + hp + attack + defense + speed\", data = box_cox_data).fit()\n",
        "boxlm_summary = boxlm.summary()\n",
        "print(boxlm_summary)"
      ],
      "metadata": {
        "colab": {
          "base_uri": "https://localhost:8080/"
        },
        "id": "iPobJsFZUtKO",
        "outputId": "0ed5fc99-1f43-40b1-abe9-92f60b1d4485"
      },
      "execution_count": null,
      "outputs": [
        {
          "output_type": "stream",
          "name": "stdout",
          "text": [
            "                              OLS Regression Results                             \n",
            "=================================================================================\n",
            "Dep. Variable:     transformed_weight_kg   R-squared:                       0.556\n",
            "Model:                               OLS   Adj. R-squared:                  0.552\n",
            "Method:                    Least Squares   F-statistic:                     176.5\n",
            "Date:                   Wed, 04 Jan 2023   Prob (F-statistic):          1.02e-121\n",
            "Time:                           18:28:46   Log-Likelihood:                -1235.3\n",
            "No. Observations:                    712   AIC:                             2483.\n",
            "Df Residuals:                        706   BIC:                             2510.\n",
            "Df Model:                              5                                         \n",
            "Covariance Type:               nonrobust                                         \n",
            "==============================================================================\n",
            "                 coef    std err          t      P>|t|      [0.025      0.975]\n",
            "------------------------------------------------------------------------------\n",
            "Intercept     -0.4052      0.215     -1.885      0.060      -0.827       0.017\n",
            "height_m       0.7545      0.066     11.466      0.000       0.625       0.884\n",
            "hp             0.0200      0.002      8.496      0.000       0.015       0.025\n",
            "attack         0.0147      0.002      6.894      0.000       0.010       0.019\n",
            "defense        0.0159      0.002      7.814      0.000       0.012       0.020\n",
            "speed         -0.0003      0.002     -0.161      0.872      -0.004       0.004\n",
            "==============================================================================\n",
            "Omnibus:                       66.514   Durbin-Watson:                   1.586\n",
            "Prob(Omnibus):                  0.000   Jarque-Bera (JB):              135.573\n",
            "Skew:                          -0.566   Prob(JB):                     3.64e-30\n",
            "Kurtosis:                       4.814   Cond. No.                         596.\n",
            "==============================================================================\n",
            "\n",
            "Notes:\n",
            "[1] Standard Errors assume that the covariance matrix of the errors is correctly specified.\n"
          ]
        }
      ]
    },
    {
      "cell_type": "markdown",
      "source": [
        "Once again we will note that the $R^{2}$ improved to 0.556 compared to the log transformed model which had a $R^{2}$ value of 0.507 and the original model with an $R^{2}$ of 0.463. We now examine the normal Q-Q plot for the box-cox transformed data.\n"
      ],
      "metadata": {
        "id": "su3nN9vuflcW"
      }
    },
    {
      "cell_type": "code",
      "source": [
        "#Q-Q plot for box-cox transformed data\n",
        "qqplot(data = boxlm.resid, fit = True, line = \"45\")\n",
        "plt.title(\"Normal Q-Q Plot\", fontsize = 20)\n",
        "plt.xlabel(\"Theoretical Quantiles\", fontsize = 14)\n",
        "plt.ylabel(\"Sample Quantiles\", fontsize = 14)\n",
        "plt.show()"
      ],
      "metadata": {
        "colab": {
          "base_uri": "https://localhost:8080/",
          "height": 579
        },
        "id": "gkwOXg_pVCO6",
        "outputId": "53ea7f48-2222-4ee5-a154-af3317e3ddf8"
      },
      "execution_count": null,
      "outputs": [
        {
          "output_type": "display_data",
          "data": {
            "text/plain": [
              "<Figure size 864x648 with 1 Axes>"
            ],
            "image/png": "[encoded data removed]"
          },
          "metadata": {}
        }
      ]
    },
    {
      "cell_type": "markdown",
      "source": [
        "We will now look at the normal Q-Q plot for model 3. Comparing this to the normal Q-Q plot for model 1 we see a vast improvement. The tails are not as severe, in fact in the upper portion of the plot the points now lie approximately on the line. There is still some issue with the bottom portion of the plot but it has been severely reduced, and looks as though it is the result of a few outliers. \n",
        "<br>\n",
        "<br>\n",
        "Now we will inspect the residuals versus fitted values plot for model 3."
      ],
      "metadata": {
        "id": "Bkttt6p5glHB"
      }
    },
    {
      "cell_type": "code",
      "source": [
        "#Calculate the predicted values and residual\n",
        "box_cox_data[\"fitted_values\"] = boxlm.predict(box_cox_data[predictors])\n",
        "box_cox_data[\"residual\"] = box_cox_data[\"transformed_weight_kg\"] - box_cox_data[\"fitted_values\"]\n",
        "\n",
        "box_cox_data.head()"
      ],
      "metadata": {
        "colab": {
          "base_uri": "https://localhost:8080/",
          "height": 237
        },
        "id": "kCjn3uhihLCz",
        "outputId": "32718218-cc28-4082-a28c-929de3dc2cc1"
      },
      "execution_count": null,
      "outputs": [
        {
          "output_type": "execute_result",
          "data": {
            "text/plain": [
              "            height_m  hp  attack  defense  speed  transformed_weight_kg  \\\n",
              "name                                                                      \n",
              "Bulbasaur        0.7  45      49       49     45               2.191861   \n",
              "Ivysaur          1.0  60      62       63     60               3.037270   \n",
              "Venusaur         2.0  80     100      123     80               6.277991   \n",
              "Charmander       0.6  39      52       43     65               2.462647   \n",
              "Charmeleon       1.1  58      64       58     80               3.577661   \n",
              "\n",
              "            fitted_values  residual  \n",
              "name                                 \n",
              "Bulbasaur        2.508861 -0.317000  \n",
              "Ivysaur          3.444460 -0.407190  \n",
              "Venusaur         6.105653  0.172338  \n",
              "Charmander       2.255283  0.207365  \n",
              "Charmeleon       3.423166  0.154495  "
            ],
            "text/html": [
              "\n",
              "  <div id=\"df-d643eaa7-f232-4843-92db-4ea241cc9726\">\n",
              "    <div class=\"colab-df-container\">\n",
              "      <div>\n",
              "<style scoped>\n",
              "    .dataframe tbody tr th:only-of-type {\n",
              "        vertical-align: middle;\n",
              "    }\n",
              "\n",
              "    .dataframe tbody tr th {\n",
              "        vertical-align: top;\n",
              "    }\n",
              "\n",
              "    .dataframe thead th {\n",
              "        text-align: right;\n",
              "    }\n",
              "</style>\n",
              "<table border=\"1\" class=\"dataframe\">\n",
              "  <thead>\n",
              "    <tr style=\"text-align: right;\">\n",
              "      <th></th>\n",
              "      <th>height_m</th>\n",
              "      <th>hp</th>\n",
              "      <th>attack</th>\n",
              "      <th>defense</th>\n",
              "      <th>speed</th>\n",
              "      <th>transformed_weight_kg</th>\n",
              "      <th>fitted_values</th>\n",
              "      <th>residual</th>\n",
              "    </tr>\n",
              "    <tr>\n",
              "      <th>name</th>\n",
              "      <th></th>\n",
              "      <th></th>\n",
              "      <th></th>\n",
              "      <th></th>\n",
              "      <th></th>\n",
              "      <th></th>\n",
              "      <th></th>\n",
              "      <th></th>\n",
              "    </tr>\n",
              "  </thead>\n",
              "  <tbody>\n",
              "    <tr>\n",
              "      <th>Bulbasaur</th>\n",
              "      <td>0.7</td>\n",
              "      <td>45</td>\n",
              "      <td>49</td>\n",
              "      <td>49</td>\n",
              "      <td>45</td>\n",
              "      <td>2.191861</td>\n",
              "      <td>2.508861</td>\n",
              "      <td>-0.317000</td>\n",
              "    </tr>\n",
              "    <tr>\n",
              "      <th>Ivysaur</th>\n",
              "      <td>1.0</td>\n",
              "      <td>60</td>\n",
              "      <td>62</td>\n",
              "      <td>63</td>\n",
              "      <td>60</td>\n",
              "      <td>3.037270</td>\n",
              "      <td>3.444460</td>\n",
              "      <td>-0.407190</td>\n",
              "    </tr>\n",
              "    <tr>\n",
              "      <th>Venusaur</th>\n",
              "      <td>2.0</td>\n",
              "      <td>80</td>\n",
              "      <td>100</td>\n",
              "      <td>123</td>\n",
              "      <td>80</td>\n",
              "      <td>6.277991</td>\n",
              "      <td>6.105653</td>\n",
              "      <td>0.172338</td>\n",
              "    </tr>\n",
              "    <tr>\n",
              "      <th>Charmander</th>\n",
              "      <td>0.6</td>\n",
              "      <td>39</td>\n",
              "      <td>52</td>\n",
              "      <td>43</td>\n",
              "      <td>65</td>\n",
              "      <td>2.462647</td>\n",
              "      <td>2.255283</td>\n",
              "      <td>0.207365</td>\n",
              "    </tr>\n",
              "    <tr>\n",
              "      <th>Charmeleon</th>\n",
              "      <td>1.1</td>\n",
              "      <td>58</td>\n",
              "      <td>64</td>\n",
              "      <td>58</td>\n",
              "      <td>80</td>\n",
              "      <td>3.577661</td>\n",
              "      <td>3.423166</td>\n",
              "      <td>0.154495</td>\n",
              "    </tr>\n",
              "  </tbody>\n",
              "</table>\n",
              "</div>\n",
              "      <button class=\"colab-df-convert\" onclick=\"convertToInteractive('df-d643eaa7-f232-4843-92db-4ea241cc9726')\"\n",
              "              title=\"Convert this dataframe to an interactive table.\"\n",
              "              style=\"display:none;\">\n",
              "        \n",
              "  <svg xmlns=\"http://www.w3.org/2000/svg\" height=\"24px\"viewBox=\"0 0 24 24\"\n",
              "       width=\"24px\">\n",
              "    <path d=\"M0 0h24v24H0V0z\" fill=\"none\"/>\n",
              "    <path d=\"M18.56 5.44l.94 2.06.94-2.06 2.06-.94-2.06-.94-.94-2.06-.94 2.06-2.06.94zm-11 1L8.5 8.5l.94-2.06 2.06-.94-2.06-.94L8.5 2.5l-.94 2.06-2.06.94zm10 10l.94 2.06.94-2.06 2.06-.94-2.06-.94-.94-2.06-.94 2.06-2.06.94z\"/><path d=\"M17.41 7.96l-1.37-1.37c-.4-.4-.92-.59-1.43-.59-.52 0-1.04.2-1.43.59L10.3 9.45l-7.72 7.72c-.78.78-.78 2.05 0 2.83L4 21.41c.39.39.9.59 1.41.59.51 0 1.02-.2 1.41-.59l7.78-7.78 2.81-2.81c.8-.78.8-2.07 0-2.86zM5.41 20L4 18.59l7.72-7.72 1.47 1.35L5.41 20z\"/>\n",
              "  </svg>\n",
              "      </button>\n",
              "      \n",
              "  <style>\n",
              "    .colab-df-container {\n",
              "      display:flex;\n",
              "      flex-wrap:wrap;\n",
              "      gap: 12px;\n",
              "    }\n",
              "\n",
              "    .colab-df-convert {\n",
              "      background-color: #E8F0FE;\n",
              "      border: none;\n",
              "      border-radius: 50%;\n",
              "      cursor: pointer;\n",
              "      display: none;\n",
              "      fill: #1967D2;\n",
              "      height: 32px;\n",
              "      padding: 0 0 0 0;\n",
              "      width: 32px;\n",
              "    }\n",
              "\n",
              "    .colab-df-convert:hover {\n",
              "      background-color: #E2EBFA;\n",
              "      box-shadow: 0px 1px 2px rgba(60, 64, 67, 0.3), 0px 1px 3px 1px rgba(60, 64, 67, 0.15);\n",
              "      fill: #174EA6;\n",
              "    }\n",
              "\n",
              "    [theme=dark] .colab-df-convert {\n",
              "      background-color: #3B4455;\n",
              "      fill: #D2E3FC;\n",
              "    }\n",
              "\n",
              "    [theme=dark] .colab-df-convert:hover {\n",
              "      background-color: #434B5C;\n",
              "      box-shadow: 0px 1px 3px 1px rgba(0, 0, 0, 0.15);\n",
              "      filter: drop-shadow(0px 1px 2px rgba(0, 0, 0, 0.3));\n",
              "      fill: #FFFFFF;\n",
              "    }\n",
              "  </style>\n",
              "\n",
              "      <script>\n",
              "        const buttonEl =\n",
              "          document.querySelector('#df-d643eaa7-f232-4843-92db-4ea241cc9726 button.colab-df-convert');\n",
              "        buttonEl.style.display =\n",
              "          google.colab.kernel.accessAllowed ? 'block' : 'none';\n",
              "\n",
              "        async function convertToInteractive(key) {\n",
              "          const element = document.querySelector('#df-d643eaa7-f232-4843-92db-4ea241cc9726');\n",
              "          const dataTable =\n",
              "            await google.colab.kernel.invokeFunction('convertToInteractive',\n",
              "                                                     [key], {});\n",
              "          if (!dataTable) return;\n",
              "\n",
              "          const docLinkHtml = 'Like what you see? Visit the ' +\n",
              "            '<a target=\"_blank\" href=https://colab.research.google.com/notebooks/data_table.ipynb>data table notebook</a>'\n",
              "            + ' to learn more about interactive tables.';\n",
              "          element.innerHTML = '';\n",
              "          dataTable['output_type'] = 'display_data';\n",
              "          await google.colab.output.renderOutput(dataTable, element);\n",
              "          const docLink = document.createElement('div');\n",
              "          docLink.innerHTML = docLinkHtml;\n",
              "          element.appendChild(docLink);\n",
              "        }\n",
              "      </script>\n",
              "    </div>\n",
              "  </div>\n",
              "  "
            ]
          },
          "metadata": {},
          "execution_count": 27
        }
      ]
    },
    {
      "cell_type": "code",
      "source": [
        "#Create residual verus fitted values plot\n",
        "sns.set(rc = {'figure.figsize': (12, 9)})\n",
        "sns.set_style(\"ticks\")\n",
        "sns.regplot(x = box_cox_data[\"residual\"], y = box_cox_data[\"fitted_values\"], ci = None, scatter_kws = {\"color\":\"blue\"}, line_kws = {\"color\":\"red\"})\n",
        "plt.title(\"Residuals Versus Fitted Values Plot\", fontsize = 20)\n",
        "plt.xlabel(\"Residuals\", fontsize = 14)\n",
        "plt.ylabel(\"Fitted Values\", fontsize = 14)\n",
        "plt.show()"
      ],
      "metadata": {
        "colab": {
          "base_uri": "https://localhost:8080/",
          "height": 579
        },
        "id": "MicfTYDyiQUz",
        "outputId": "63e1d18d-af30-4d22-ff29-4fc36bad0caf"
      },
      "execution_count": null,
      "outputs": [
        {
          "output_type": "display_data",
          "data": {
            "text/plain": [
              "<Figure size 864x648 with 1 Axes>"
            ],
            "image/png": "[encoded data removed]"
          },
          "metadata": {}
        }
      ]
    },
    {
      "cell_type": "markdown",
      "source": [
        "The residuals versus fitted values plot for model 3 looks much better when compared to model 1’s residual versus fitted values plot. The points seem to be scattered randomly about the line, we appear to have constant variance, and there are no clear signs of non-linearity.\n",
        "<br>\n",
        "<br>\n",
        "Therefore, for model 2 we can say that none of our assumptions for linear regression are violated. Thus, we may now look at the appropriate hypothesis tests and construct joint confidence intervals for the coefficients.\n",
        "<br>\n",
        "<br>\n",
        "Looking back to the summary for model 3, we see that the p-value for testing the significance of regression is $1.02\\times10^{-102}$ , thus we can conclude that there is a linear relationship between the transformed Pokemon’s weight and at least one of a Pokemon's height, hp, attack, defense, or speed. Further we see that only speed does not significantly contribute to the model given the other predictor variables are in the model. We will now obtain 95% joint confidence intervals for the coefficients using the Bonferroni method of correction."
      ],
      "metadata": {
        "id": "k5Vxk1lliak8"
      }
    },
    {
      "cell_type": "code",
      "source": [
        "#Create dataframe with coefficients and their standard error\n",
        "coefficients = boxlm.params\n",
        "standarderror = boxlm.bse\n",
        "joint_ci_df = pd.DataFrame([coefficients, standarderror]).transpose()\n",
        "joint_ci_df.columns = [\"coefficients\", \"std_error\"]\n",
        "joint_ci_df"
      ],
      "metadata": {
        "colab": {
          "base_uri": "https://localhost:8080/",
          "height": 237
        },
        "id": "oC9iX4n6VWIG",
        "outputId": "ba140d13-cf14-4214-a2bc-a3051e05a643"
      },
      "execution_count": null,
      "outputs": [
        {
          "output_type": "execute_result",
          "data": {
            "text/plain": [
              "           coefficients  std_error\n",
              "Intercept     -0.405172   0.214890\n",
              "height_m       0.754531   0.065807\n",
              "hp             0.020035   0.002358\n",
              "attack         0.014675   0.002129\n",
              "defense        0.015912   0.002037\n",
              "speed         -0.000323   0.002011"
            ],
            "text/html": [
              "\n",
              "  <div id=\"df-f7db71f0-adc0-43f4-b795-ffad420024df\">\n",
              "    <div class=\"colab-df-container\">\n",
              "      <div>\n",
              "<style scoped>\n",
              "    .dataframe tbody tr th:only-of-type {\n",
              "        vertical-align: middle;\n",
              "    }\n",
              "\n",
              "    .dataframe tbody tr th {\n",
              "        vertical-align: top;\n",
              "    }\n",
              "\n",
              "    .dataframe thead th {\n",
              "        text-align: right;\n",
              "    }\n",
              "</style>\n",
              "<table border=\"1\" class=\"dataframe\">\n",
              "  <thead>\n",
              "    <tr style=\"text-align: right;\">\n",
              "      <th></th>\n",
              "      <th>coefficients</th>\n",
              "      <th>std_error</th>\n",
              "    </tr>\n",
              "  </thead>\n",
              "  <tbody>\n",
              "    <tr>\n",
              "      <th>Intercept</th>\n",
              "      <td>-0.405172</td>\n",
              "      <td>0.214890</td>\n",
              "    </tr>\n",
              "    <tr>\n",
              "      <th>height_m</th>\n",
              "      <td>0.754531</td>\n",
              "      <td>0.065807</td>\n",
              "    </tr>\n",
              "    <tr>\n",
              "      <th>hp</th>\n",
              "      <td>0.020035</td>\n",
              "      <td>0.002358</td>\n",
              "    </tr>\n",
              "    <tr>\n",
              "      <th>attack</th>\n",
              "      <td>0.014675</td>\n",
              "      <td>0.002129</td>\n",
              "    </tr>\n",
              "    <tr>\n",
              "      <th>defense</th>\n",
              "      <td>0.015912</td>\n",
              "      <td>0.002037</td>\n",
              "    </tr>\n",
              "    <tr>\n",
              "      <th>speed</th>\n",
              "      <td>-0.000323</td>\n",
              "      <td>0.002011</td>\n",
              "    </tr>\n",
              "  </tbody>\n",
              "</table>\n",
              "</div>\n",
              "      <button class=\"colab-df-convert\" onclick=\"convertToInteractive('df-f7db71f0-adc0-43f4-b795-ffad420024df')\"\n",
              "              title=\"Convert this dataframe to an interactive table.\"\n",
              "              style=\"display:none;\">\n",
              "        \n",
              "  <svg xmlns=\"http://www.w3.org/2000/svg\" height=\"24px\"viewBox=\"0 0 24 24\"\n",
              "       width=\"24px\">\n",
              "    <path d=\"M0 0h24v24H0V0z\" fill=\"none\"/>\n",
              "    <path d=\"M18.56 5.44l.94 2.06.94-2.06 2.06-.94-2.06-.94-.94-2.06-.94 2.06-2.06.94zm-11 1L8.5 8.5l.94-2.06 2.06-.94-2.06-.94L8.5 2.5l-.94 2.06-2.06.94zm10 10l.94 2.06.94-2.06 2.06-.94-2.06-.94-.94-2.06-.94 2.06-2.06.94z\"/><path d=\"M17.41 7.96l-1.37-1.37c-.4-.4-.92-.59-1.43-.59-.52 0-1.04.2-1.43.59L10.3 9.45l-7.72 7.72c-.78.78-.78 2.05 0 2.83L4 21.41c.39.39.9.59 1.41.59.51 0 1.02-.2 1.41-.59l7.78-7.78 2.81-2.81c.8-.78.8-2.07 0-2.86zM5.41 20L4 18.59l7.72-7.72 1.47 1.35L5.41 20z\"/>\n",
              "  </svg>\n",
              "      </button>\n",
              "      \n",
              "  <style>\n",
              "    .colab-df-container {\n",
              "      display:flex;\n",
              "      flex-wrap:wrap;\n",
              "      gap: 12px;\n",
              "    }\n",
              "\n",
              "    .colab-df-convert {\n",
              "      background-color: #E8F0FE;\n",
              "      border: none;\n",
              "      border-radius: 50%;\n",
              "      cursor: pointer;\n",
              "      display: none;\n",
              "      fill: #1967D2;\n",
              "      height: 32px;\n",
              "      padding: 0 0 0 0;\n",
              "      width: 32px;\n",
              "    }\n",
              "\n",
              "    .colab-df-convert:hover {\n",
              "      background-color: #E2EBFA;\n",
              "      box-shadow: 0px 1px 2px rgba(60, 64, 67, 0.3), 0px 1px 3px 1px rgba(60, 64, 67, 0.15);\n",
              "      fill: #174EA6;\n",
              "    }\n",
              "\n",
              "    [theme=dark] .colab-df-convert {\n",
              "      background-color: #3B4455;\n",
              "      fill: #D2E3FC;\n",
              "    }\n",
              "\n",
              "    [theme=dark] .colab-df-convert:hover {\n",
              "      background-color: #434B5C;\n",
              "      box-shadow: 0px 1px 3px 1px rgba(0, 0, 0, 0.15);\n",
              "      filter: drop-shadow(0px 1px 2px rgba(0, 0, 0, 0.3));\n",
              "      fill: #FFFFFF;\n",
              "    }\n",
              "  </style>\n",
              "\n",
              "      <script>\n",
              "        const buttonEl =\n",
              "          document.querySelector('#df-f7db71f0-adc0-43f4-b795-ffad420024df button.colab-df-convert');\n",
              "        buttonEl.style.display =\n",
              "          google.colab.kernel.accessAllowed ? 'block' : 'none';\n",
              "\n",
              "        async function convertToInteractive(key) {\n",
              "          const element = document.querySelector('#df-f7db71f0-adc0-43f4-b795-ffad420024df');\n",
              "          const dataTable =\n",
              "            await google.colab.kernel.invokeFunction('convertToInteractive',\n",
              "                                                     [key], {});\n",
              "          if (!dataTable) return;\n",
              "\n",
              "          const docLinkHtml = 'Like what you see? Visit the ' +\n",
              "            '<a target=\"_blank\" href=https://colab.research.google.com/notebooks/data_table.ipynb>data table notebook</a>'\n",
              "            + ' to learn more about interactive tables.';\n",
              "          element.innerHTML = '';\n",
              "          dataTable['output_type'] = 'display_data';\n",
              "          await google.colab.output.renderOutput(dataTable, element);\n",
              "          const docLink = document.createElement('div');\n",
              "          docLink.innerHTML = docLinkHtml;\n",
              "          element.appendChild(docLink);\n",
              "        }\n",
              "      </script>\n",
              "    </div>\n",
              "  </div>\n",
              "  "
            ]
          },
          "metadata": {},
          "execution_count": 29
        }
      ]
    },
    {
      "cell_type": "code",
      "source": [
        "#Obtain 95% joint confidence intervals for the coefficients\n",
        "t_stat = stats.t.ppf(1 - ((0.05/6) / 2), 706)\n",
        "joint_ci_df[\"lower_bound\"] = joint_ci_df[\"coefficients\"] - (t_stat * joint_ci_df[\"std_error\"])\n",
        "joint_ci_df[\"upper_bound\"] = joint_ci_df[\"coefficients\"] + (t_stat * joint_ci_df[\"std_error\"])\n",
        "joint_ci_df[[\"coefficients\", \"lower_bound\", \"upper_bound\"]]"
      ],
      "metadata": {
        "colab": {
          "base_uri": "https://localhost:8080/",
          "height": 237
        },
        "id": "7X6KkjLSWj4_",
        "outputId": "75fef4ee-5796-45ea-ca80-50b9da00e53c"
      },
      "execution_count": null,
      "outputs": [
        {
          "output_type": "execute_result",
          "data": {
            "text/plain": [
              "           coefficients  lower_bound  upper_bound\n",
              "Intercept     -0.405172    -0.973710     0.163366\n",
              "height_m       0.754531     0.580425     0.928636\n",
              "hp             0.020035     0.013796     0.026275\n",
              "attack         0.014675     0.009043     0.020308\n",
              "defense        0.015912     0.010524     0.021301\n",
              "speed         -0.000323    -0.005643     0.004997"
            ],
            "text/html": [
              "\n",
              "  <div id=\"df-6d7bdf5a-af29-4312-9b6e-266846efef0e\">\n",
              "    <div class=\"colab-df-container\">\n",
              "      <div>\n",
              "<style scoped>\n",
              "    .dataframe tbody tr th:only-of-type {\n",
              "        vertical-align: middle;\n",
              "    }\n",
              "\n",
              "    .dataframe tbody tr th {\n",
              "        vertical-align: top;\n",
              "    }\n",
              "\n",
              "    .dataframe thead th {\n",
              "        text-align: right;\n",
              "    }\n",
              "</style>\n",
              "<table border=\"1\" class=\"dataframe\">\n",
              "  <thead>\n",
              "    <tr style=\"text-align: right;\">\n",
              "      <th></th>\n",
              "      <th>coefficients</th>\n",
              "      <th>lower_bound</th>\n",
              "      <th>upper_bound</th>\n",
              "    </tr>\n",
              "  </thead>\n",
              "  <tbody>\n",
              "    <tr>\n",
              "      <th>Intercept</th>\n",
              "      <td>-0.405172</td>\n",
              "      <td>-0.973710</td>\n",
              "      <td>0.163366</td>\n",
              "    </tr>\n",
              "    <tr>\n",
              "      <th>height_m</th>\n",
              "      <td>0.754531</td>\n",
              "      <td>0.580425</td>\n",
              "      <td>0.928636</td>\n",
              "    </tr>\n",
              "    <tr>\n",
              "      <th>hp</th>\n",
              "      <td>0.020035</td>\n",
              "      <td>0.013796</td>\n",
              "      <td>0.026275</td>\n",
              "    </tr>\n",
              "    <tr>\n",
              "      <th>attack</th>\n",
              "      <td>0.014675</td>\n",
              "      <td>0.009043</td>\n",
              "      <td>0.020308</td>\n",
              "    </tr>\n",
              "    <tr>\n",
              "      <th>defense</th>\n",
              "      <td>0.015912</td>\n",
              "      <td>0.010524</td>\n",
              "      <td>0.021301</td>\n",
              "    </tr>\n",
              "    <tr>\n",
              "      <th>speed</th>\n",
              "      <td>-0.000323</td>\n",
              "      <td>-0.005643</td>\n",
              "      <td>0.004997</td>\n",
              "    </tr>\n",
              "  </tbody>\n",
              "</table>\n",
              "</div>\n",
              "      <button class=\"colab-df-convert\" onclick=\"convertToInteractive('df-6d7bdf5a-af29-4312-9b6e-266846efef0e')\"\n",
              "              title=\"Convert this dataframe to an interactive table.\"\n",
              "              style=\"display:none;\">\n",
              "        \n",
              "  <svg xmlns=\"http://www.w3.org/2000/svg\" height=\"24px\"viewBox=\"0 0 24 24\"\n",
              "       width=\"24px\">\n",
              "    <path d=\"M0 0h24v24H0V0z\" fill=\"none\"/>\n",
              "    <path d=\"M18.56 5.44l.94 2.06.94-2.06 2.06-.94-2.06-.94-.94-2.06-.94 2.06-2.06.94zm-11 1L8.5 8.5l.94-2.06 2.06-.94-2.06-.94L8.5 2.5l-.94 2.06-2.06.94zm10 10l.94 2.06.94-2.06 2.06-.94-2.06-.94-.94-2.06-.94 2.06-2.06.94z\"/><path d=\"M17.41 7.96l-1.37-1.37c-.4-.4-.92-.59-1.43-.59-.52 0-1.04.2-1.43.59L10.3 9.45l-7.72 7.72c-.78.78-.78 2.05 0 2.83L4 21.41c.39.39.9.59 1.41.59.51 0 1.02-.2 1.41-.59l7.78-7.78 2.81-2.81c.8-.78.8-2.07 0-2.86zM5.41 20L4 18.59l7.72-7.72 1.47 1.35L5.41 20z\"/>\n",
              "  </svg>\n",
              "      </button>\n",
              "      \n",
              "  <style>\n",
              "    .colab-df-container {\n",
              "      display:flex;\n",
              "      flex-wrap:wrap;\n",
              "      gap: 12px;\n",
              "    }\n",
              "\n",
              "    .colab-df-convert {\n",
              "      background-color: #E8F0FE;\n",
              "      border: none;\n",
              "      border-radius: 50%;\n",
              "      cursor: pointer;\n",
              "      display: none;\n",
              "      fill: #1967D2;\n",
              "      height: 32px;\n",
              "      padding: 0 0 0 0;\n",
              "      width: 32px;\n",
              "    }\n",
              "\n",
              "    .colab-df-convert:hover {\n",
              "      background-color: #E2EBFA;\n",
              "      box-shadow: 0px 1px 2px rgba(60, 64, 67, 0.3), 0px 1px 3px 1px rgba(60, 64, 67, 0.15);\n",
              "      fill: #174EA6;\n",
              "    }\n",
              "\n",
              "    [theme=dark] .colab-df-convert {\n",
              "      background-color: #3B4455;\n",
              "      fill: #D2E3FC;\n",
              "    }\n",
              "\n",
              "    [theme=dark] .colab-df-convert:hover {\n",
              "      background-color: #434B5C;\n",
              "      box-shadow: 0px 1px 3px 1px rgba(0, 0, 0, 0.15);\n",
              "      filter: drop-shadow(0px 1px 2px rgba(0, 0, 0, 0.3));\n",
              "      fill: #FFFFFF;\n",
              "    }\n",
              "  </style>\n",
              "\n",
              "      <script>\n",
              "        const buttonEl =\n",
              "          document.querySelector('#df-6d7bdf5a-af29-4312-9b6e-266846efef0e button.colab-df-convert');\n",
              "        buttonEl.style.display =\n",
              "          google.colab.kernel.accessAllowed ? 'block' : 'none';\n",
              "\n",
              "        async function convertToInteractive(key) {\n",
              "          const element = document.querySelector('#df-6d7bdf5a-af29-4312-9b6e-266846efef0e');\n",
              "          const dataTable =\n",
              "            await google.colab.kernel.invokeFunction('convertToInteractive',\n",
              "                                                     [key], {});\n",
              "          if (!dataTable) return;\n",
              "\n",
              "          const docLinkHtml = 'Like what you see? Visit the ' +\n",
              "            '<a target=\"_blank\" href=https://colab.research.google.com/notebooks/data_table.ipynb>data table notebook</a>'\n",
              "            + ' to learn more about interactive tables.';\n",
              "          element.innerHTML = '';\n",
              "          dataTable['output_type'] = 'display_data';\n",
              "          await google.colab.output.renderOutput(dataTable, element);\n",
              "          const docLink = document.createElement('div');\n",
              "          docLink.innerHTML = docLinkHtml;\n",
              "          element.appendChild(docLink);\n",
              "        }\n",
              "      </script>\n",
              "    </div>\n",
              "  </div>\n",
              "  "
            ]
          },
          "metadata": {},
          "execution_count": 30
        }
      ]
    },
    {
      "cell_type": "markdown",
      "source": [
        "## <font size = \"6\"> **Leverage and Influence Points**"
      ],
      "metadata": {
        "id": "h7Rg-Ey9i_WT"
      }
    },
    {
      "cell_type": "markdown",
      "source": [
        "We now analyze the outliers in our dataset. To do this we calculate a variety of diagnostics for each data point including the diagonals of the hat matrix, Cook’s distance, DFFITS, and the COVRATIO as well as their cutoff values."
      ],
      "metadata": {
        "id": "-v08beiEM6hY"
      }
    },
    {
      "cell_type": "code",
      "source": [
        "#Create dataframe with various diagnostics\n",
        "influence_df = pd.DataFrame(box_cox_data[\"transformed_weight_kg\"])\n",
        "influence = boxlm.get_influence()\n",
        "influence_df[\"h_ii\"] = influence.hat_diag_factor\n",
        "influence_df[\"cooks_distance\"] = influence.cooks_distance[0]\n",
        "influence_df[\"dffits\"] = influence.dffits[0]\n",
        "influence_df[\"covratio\"] = influence.cov_ratio\n",
        "influence_df.head()"
      ],
      "metadata": {
        "colab": {
          "base_uri": "https://localhost:8080/",
          "height": 237
        },
        "id": "0VKZtXUFjNWi",
        "outputId": "bbfd3b8b-1116-4f24-f4ee-d46a33894f5e"
      },
      "execution_count": null,
      "outputs": [
        {
          "output_type": "execute_result",
          "data": {
            "text/plain": [
              "            transformed_weight_kg      h_ii  cooks_distance    dffits  \\\n",
              "name                                                                    \n",
              "Bulbasaur                2.191861  0.003600        0.000032 -0.013822   \n",
              "Ivysaur                  3.037270  0.001716        0.000025 -0.012247   \n",
              "Venusaur                 6.277991  0.006748        0.000018  0.010304   \n",
              "Charmander               2.462647  0.003958        0.000015  0.009482   \n",
              "Charmeleon               3.577661  0.002542        0.000005  0.005657   \n",
              "\n",
              "            covratio  \n",
              "name                  \n",
              "Bulbasaur   1.011714  \n",
              "Ivysaur     1.009520  \n",
              "Venusaur    1.015210  \n",
              "Charmander  1.012337  \n",
              "Charmeleon  1.010996  "
            ],
            "text/html": [
              "\n",
              "  <div id=\"df-a297c1ba-100f-4419-9818-43a9aa8254d3\">\n",
              "    <div class=\"colab-df-container\">\n",
              "      <div>\n",
              "<style scoped>\n",
              "    .dataframe tbody tr th:only-of-type {\n",
              "        vertical-align: middle;\n",
              "    }\n",
              "\n",
              "    .dataframe tbody tr th {\n",
              "        vertical-align: top;\n",
              "    }\n",
              "\n",
              "    .dataframe thead th {\n",
              "        text-align: right;\n",
              "    }\n",
              "</style>\n",
              "<table border=\"1\" class=\"dataframe\">\n",
              "  <thead>\n",
              "    <tr style=\"text-align: right;\">\n",
              "      <th></th>\n",
              "      <th>transformed_weight_kg</th>\n",
              "      <th>h_ii</th>\n",
              "      <th>cooks_distance</th>\n",
              "      <th>dffits</th>\n",
              "      <th>covratio</th>\n",
              "    </tr>\n",
              "    <tr>\n",
              "      <th>name</th>\n",
              "      <th></th>\n",
              "      <th></th>\n",
              "      <th></th>\n",
              "      <th></th>\n",
              "      <th></th>\n",
              "    </tr>\n",
              "  </thead>\n",
              "  <tbody>\n",
              "    <tr>\n",
              "      <th>Bulbasaur</th>\n",
              "      <td>2.191861</td>\n",
              "      <td>0.003600</td>\n",
              "      <td>0.000032</td>\n",
              "      <td>-0.013822</td>\n",
              "      <td>1.011714</td>\n",
              "    </tr>\n",
              "    <tr>\n",
              "      <th>Ivysaur</th>\n",
              "      <td>3.037270</td>\n",
              "      <td>0.001716</td>\n",
              "      <td>0.000025</td>\n",
              "      <td>-0.012247</td>\n",
              "      <td>1.009520</td>\n",
              "    </tr>\n",
              "    <tr>\n",
              "      <th>Venusaur</th>\n",
              "      <td>6.277991</td>\n",
              "      <td>0.006748</td>\n",
              "      <td>0.000018</td>\n",
              "      <td>0.010304</td>\n",
              "      <td>1.015210</td>\n",
              "    </tr>\n",
              "    <tr>\n",
              "      <th>Charmander</th>\n",
              "      <td>2.462647</td>\n",
              "      <td>0.003958</td>\n",
              "      <td>0.000015</td>\n",
              "      <td>0.009482</td>\n",
              "      <td>1.012337</td>\n",
              "    </tr>\n",
              "    <tr>\n",
              "      <th>Charmeleon</th>\n",
              "      <td>3.577661</td>\n",
              "      <td>0.002542</td>\n",
              "      <td>0.000005</td>\n",
              "      <td>0.005657</td>\n",
              "      <td>1.010996</td>\n",
              "    </tr>\n",
              "  </tbody>\n",
              "</table>\n",
              "</div>\n",
              "      <button class=\"colab-df-convert\" onclick=\"convertToInteractive('df-a297c1ba-100f-4419-9818-43a9aa8254d3')\"\n",
              "              title=\"Convert this dataframe to an interactive table.\"\n",
              "              style=\"display:none;\">\n",
              "        \n",
              "  <svg xmlns=\"http://www.w3.org/2000/svg\" height=\"24px\"viewBox=\"0 0 24 24\"\n",
              "       width=\"24px\">\n",
              "    <path d=\"M0 0h24v24H0V0z\" fill=\"none\"/>\n",
              "    <path d=\"M18.56 5.44l.94 2.06.94-2.06 2.06-.94-2.06-.94-.94-2.06-.94 2.06-2.06.94zm-11 1L8.5 8.5l.94-2.06 2.06-.94-2.06-.94L8.5 2.5l-.94 2.06-2.06.94zm10 10l.94 2.06.94-2.06 2.06-.94-2.06-.94-.94-2.06-.94 2.06-2.06.94z\"/><path d=\"M17.41 7.96l-1.37-1.37c-.4-.4-.92-.59-1.43-.59-.52 0-1.04.2-1.43.59L10.3 9.45l-7.72 7.72c-.78.78-.78 2.05 0 2.83L4 21.41c.39.39.9.59 1.41.59.51 0 1.02-.2 1.41-.59l7.78-7.78 2.81-2.81c.8-.78.8-2.07 0-2.86zM5.41 20L4 18.59l7.72-7.72 1.47 1.35L5.41 20z\"/>\n",
              "  </svg>\n",
              "      </button>\n",
              "      \n",
              "  <style>\n",
              "    .colab-df-container {\n",
              "      display:flex;\n",
              "      flex-wrap:wrap;\n",
              "      gap: 12px;\n",
              "    }\n",
              "\n",
              "    .colab-df-convert {\n",
              "      background-color: #E8F0FE;\n",
              "      border: none;\n",
              "      border-radius: 50%;\n",
              "      cursor: pointer;\n",
              "      display: none;\n",
              "      fill: #1967D2;\n",
              "      height: 32px;\n",
              "      padding: 0 0 0 0;\n",
              "      width: 32px;\n",
              "    }\n",
              "\n",
              "    .colab-df-convert:hover {\n",
              "      background-color: #E2EBFA;\n",
              "      box-shadow: 0px 1px 2px rgba(60, 64, 67, 0.3), 0px 1px 3px 1px rgba(60, 64, 67, 0.15);\n",
              "      fill: #174EA6;\n",
              "    }\n",
              "\n",
              "    [theme=dark] .colab-df-convert {\n",
              "      background-color: #3B4455;\n",
              "      fill: #D2E3FC;\n",
              "    }\n",
              "\n",
              "    [theme=dark] .colab-df-convert:hover {\n",
              "      background-color: #434B5C;\n",
              "      box-shadow: 0px 1px 3px 1px rgba(0, 0, 0, 0.15);\n",
              "      filter: drop-shadow(0px 1px 2px rgba(0, 0, 0, 0.3));\n",
              "      fill: #FFFFFF;\n",
              "    }\n",
              "  </style>\n",
              "\n",
              "      <script>\n",
              "        const buttonEl =\n",
              "          document.querySelector('#df-a297c1ba-100f-4419-9818-43a9aa8254d3 button.colab-df-convert');\n",
              "        buttonEl.style.display =\n",
              "          google.colab.kernel.accessAllowed ? 'block' : 'none';\n",
              "\n",
              "        async function convertToInteractive(key) {\n",
              "          const element = document.querySelector('#df-a297c1ba-100f-4419-9818-43a9aa8254d3');\n",
              "          const dataTable =\n",
              "            await google.colab.kernel.invokeFunction('convertToInteractive',\n",
              "                                                     [key], {});\n",
              "          if (!dataTable) return;\n",
              "\n",
              "          const docLinkHtml = 'Like what you see? Visit the ' +\n",
              "            '<a target=\"_blank\" href=https://colab.research.google.com/notebooks/data_table.ipynb>data table notebook</a>'\n",
              "            + ' to learn more about interactive tables.';\n",
              "          element.innerHTML = '';\n",
              "          dataTable['output_type'] = 'display_data';\n",
              "          await google.colab.output.renderOutput(dataTable, element);\n",
              "          const docLink = document.createElement('div');\n",
              "          docLink.innerHTML = docLinkHtml;\n",
              "          element.appendChild(docLink);\n",
              "        }\n",
              "      </script>\n",
              "    </div>\n",
              "  </div>\n",
              "  "
            ]
          },
          "metadata": {},
          "execution_count": 31
        }
      ]
    },
    {
      "cell_type": "markdown",
      "source": [
        "We first look to find points of leverage in the dataset. These are points that are remote in the x space. We find these points by comparing the diagonals of the hat matrix to a cutoff value $\\frac{2p}{n}$. In our dataset we find there are 34 points of leverage. The largest points of leverage appear to be Chansey, Blissey, Onix, Steelix, and Wailord."
      ],
      "metadata": {
        "id": "Ss5-_azjNJ3Q"
      }
    },
    {
      "cell_type": "code",
      "source": [
        "#Obtain cutoff value for the diagonals of the hat matrix and display points of leverage\n",
        "p = poke.shape[1] + 1\n",
        "n = poke.shape[0]\n",
        "h_ii_diagonal_cutoff = (2 * p) / n\n",
        "leverage_points = influence_df[influence_df[\"h_ii\"] > h_ii_diagonal_cutoff]\n",
        "leverage_points[\"h_ii\"]"
      ],
      "metadata": {
        "colab": {
          "base_uri": "https://localhost:8080/"
        },
        "id": "KBlgwvgiYqG1",
        "outputId": "a8f8ea01-620d-46f9-f239-8a6f96496573"
      },
      "execution_count": null,
      "outputs": [
        {
          "output_type": "execute_result",
          "data": {
            "text/plain": [
              "name\n",
              "Beedrill      0.024839\n",
              "Wigglytuff    0.019817\n",
              "Alakazam      0.022013\n",
              "Slowbro       0.028139\n",
              "Cloyster      0.025553\n",
              "Onix          0.186453\n",
              "Electrode     0.022135\n",
              "Chansey       0.144007\n",
              "Gyarados      0.059905\n",
              "Snorlax       0.027933\n",
              "Dragonair     0.022757\n",
              "Wobbuffet     0.058114\n",
              "Steelix       0.173676\n",
              "Shuckle       0.087630\n",
              "Heracross     0.022372\n",
              "Blissey       0.145465\n",
              "Slaking       0.023151\n",
              "Ninjask       0.020184\n",
              "Shedinja      0.020469\n",
              "Hariyama      0.020052\n",
              "Aggron        0.044848\n",
              "Wailord       0.622354\n",
              "Milotic       0.061747\n",
              "Rampardos     0.022286\n",
              "Bastiodon     0.025637\n",
              "Drifblim      0.022823\n",
              "Happiny       0.020618\n",
              "Munchlax      0.027790\n",
              "Alomomola     0.030397\n",
              "Aegislash     0.021168\n",
              "Carbink       0.021840\n",
              "Avalugg       0.024515\n",
              "Wishiwashi    0.022293\n",
              "Dhelmise      0.023657\n",
              "Name: h_ii, dtype: float64"
            ]
          },
          "metadata": {},
          "execution_count": 32
        }
      ]
    },
    {
      "cell_type": "markdown",
      "source": [
        "The next thing we want to identify are potential points of influence. We will first use Cook’s distance to identify influential points. We look for any data points that have a value of Cook’s distance greater than 1.. There is only one data point that satisfies the condition, that point being Wailord with a Cook’s distance of 4.2866."
      ],
      "metadata": {
        "id": "SvOCshHGNTIe"
      }
    },
    {
      "cell_type": "code",
      "source": [
        "#Obtain points that have a Cook's distance > 1\n",
        "influential_points_c_d = influence_df[influence_df[\"cooks_distance\"] > 1]\n",
        "influential_points_c_d[\"cooks_distance\"]"
      ],
      "metadata": {
        "colab": {
          "base_uri": "https://localhost:8080/"
        },
        "id": "NkA3VnAoa8uw",
        "outputId": "b2ef20a2-39c6-45ba-9918-2c1f6d6e4e71"
      },
      "execution_count": null,
      "outputs": [
        {
          "output_type": "execute_result",
          "data": {
            "text/plain": [
              "name\n",
              "Wailord    4.286579\n",
              "Name: cooks_distance, dtype: float64"
            ]
          },
          "metadata": {},
          "execution_count": 38
        }
      ]
    },
    {
      "cell_type": "markdown",
      "source": [
        "We also gather data points that of DFFITS where the absolute value of DFFITS exceeds the cutoff value of $2\\sqrt{\\frac{p}{n}}$ (Appendix Figure 2). It is worth noting that the largest values of DFFITS by far are Wailord and Steelix. "
      ],
      "metadata": {
        "id": "wOcgUZenNW_-"
      }
    },
    {
      "cell_type": "code",
      "source": [
        "#Obtain cutoff value for DFFITS and display points that exceed the value\n",
        "dffits_cutoff = 2 * math.sqrt(p/n)\n",
        "dffits_above_cutoff = influence_df[abs(influence_df[\"dffits\"]) > dffits_cutoff]\n",
        "dffits_above_cutoff[\"dffits\"]"
      ],
      "metadata": {
        "colab": {
          "base_uri": "https://localhost:8080/"
        },
        "id": "kQJDTEBqdqjv",
        "outputId": "f73ff0b1-8e11-4332-aaae-0536b619a384"
      },
      "execution_count": null,
      "outputs": [
        {
          "output_type": "execute_result",
          "data": {
            "text/plain": [
              "name\n",
              "Wigglytuff   -0.202054\n",
              "Abra          0.200116\n",
              "Kadabra       0.234848\n",
              "Gastly       -0.303410\n",
              "Haunter      -0.336808\n",
              "Onix         -0.833466\n",
              "Electrode     0.225290\n",
              "Chansey      -0.319258\n",
              "Gyarados     -0.453938\n",
              "Snorlax       0.282944\n",
              "Dragonair    -0.300286\n",
              "Igglybuff    -0.207544\n",
              "Wobbuffet    -0.287041\n",
              "Steelix      -1.489284\n",
              "Mantine       0.219549\n",
              "Blissey      -0.341275\n",
              "Shedinja     -0.216103\n",
              "Nosepass      0.238927\n",
              "Wailord      -5.223015\n",
              "Milotic      -0.206504\n",
              "Banette      -0.237876\n",
              "Metagross     0.279460\n",
              "Bastiodon     0.214168\n",
              "Drifblim     -0.234913\n",
              "Munchlax      0.212545\n",
              "Probopass     0.343534\n",
              "Rotom        -0.329591\n",
              "Alomomola    -0.233196\n",
              "Cryogonal     0.230827\n",
              "Doublade     -0.338032\n",
              "Spritzee     -0.219925\n",
              "Carbink      -0.214599\n",
              "Avalugg       0.216906\n",
              "Ribombee     -0.275258\n",
              "Wishiwashi   -0.652167\n",
              "Mudsdale      0.307626\n",
              "Comfey       -0.310432\n",
              "Pyukumuku    -0.339567\n",
              "Mimikyu      -0.220512\n",
              "Name: dffits, dtype: float64"
            ]
          },
          "metadata": {},
          "execution_count": 34
        }
      ]
    },
    {
      "cell_type": "markdown",
      "source": [
        "Lastly we obtain data points whose COVRATIO that are either below $1 - \\frac{3p}{n}$ or above $1 + \\frac{3p}{n}$. Again, Steelix and Wailord both have significant values. Thus our outlier analysis allows us to conclude that both Wailord and Steelix are two very influential points in the data set."
      ],
      "metadata": {
        "id": "dMD7LJSiN9v1"
      }
    },
    {
      "cell_type": "code",
      "source": [
        "#Obtain cutoff value for COVRATIO and display values that exceed value\n",
        "covratio_cutoff = 1 + ((3 * p) / n)\n",
        "covratio_above_cutoff = influence_df[influence_df[\"covratio\"] > covratio_cutoff]\n",
        "covratio_above_cutoff[\"covratio\"].to_frame(\"covratio\").reset_index()"
      ],
      "metadata": {
        "id": "1_qckzBnej_1",
        "colab": {
          "base_uri": "https://localhost:8080/",
          "height": 551
        },
        "outputId": "ee2dc4bc-4fbc-4222-898e-7115dcd8ab86"
      },
      "execution_count": null,
      "outputs": [
        {
          "output_type": "execute_result",
          "data": {
            "text/plain": [
              "         name  covratio\n",
              "0    Beedrill  1.033394\n",
              "1     Slowbro  1.033769\n",
              "2    Cloyster  1.031035\n",
              "3        Onix  1.159337\n",
              "4     Chansey  1.146853\n",
              "5    Gyarados  1.038192\n",
              "6   Wobbuffet  1.054365\n",
              "7     Steelix  1.062825\n",
              "8     Shuckle  1.095219\n",
              "9     Blissey  1.147408\n",
              "10     Aggron  1.052484\n",
              "11    Wailord  1.139364\n",
              "12    Milotic  1.064543\n",
              "13  Rampardos  1.030789\n",
              "14  Aegislash  1.029822\n",
              "15   Dhelmise  1.032121"
            ],
            "text/html": [
              "\n",
              "  <div id=\"df-e4c5a3d0-37b0-4387-9271-d7d0b26cdb82\">\n",
              "    <div class=\"colab-df-container\">\n",
              "      <div>\n",
              "<style scoped>\n",
              "    .dataframe tbody tr th:only-of-type {\n",
              "        vertical-align: middle;\n",
              "    }\n",
              "\n",
              "    .dataframe tbody tr th {\n",
              "        vertical-align: top;\n",
              "    }\n",
              "\n",
              "    .dataframe thead th {\n",
              "        text-align: right;\n",
              "    }\n",
              "</style>\n",
              "<table border=\"1\" class=\"dataframe\">\n",
              "  <thead>\n",
              "    <tr style=\"text-align: right;\">\n",
              "      <th></th>\n",
              "      <th>name</th>\n",
              "      <th>covratio</th>\n",
              "    </tr>\n",
              "  </thead>\n",
              "  <tbody>\n",
              "    <tr>\n",
              "      <th>0</th>\n",
              "      <td>Beedrill</td>\n",
              "      <td>1.033394</td>\n",
              "    </tr>\n",
              "    <tr>\n",
              "      <th>1</th>\n",
              "      <td>Slowbro</td>\n",
              "      <td>1.033769</td>\n",
              "    </tr>\n",
              "    <tr>\n",
              "      <th>2</th>\n",
              "      <td>Cloyster</td>\n",
              "      <td>1.031035</td>\n",
              "    </tr>\n",
              "    <tr>\n",
              "      <th>3</th>\n",
              "      <td>Onix</td>\n",
              "      <td>1.159337</td>\n",
              "    </tr>\n",
              "    <tr>\n",
              "      <th>4</th>\n",
              "      <td>Chansey</td>\n",
              "      <td>1.146853</td>\n",
              "    </tr>\n",
              "    <tr>\n",
              "      <th>5</th>\n",
              "      <td>Gyarados</td>\n",
              "      <td>1.038192</td>\n",
              "    </tr>\n",
              "    <tr>\n",
              "      <th>6</th>\n",
              "      <td>Wobbuffet</td>\n",
              "      <td>1.054365</td>\n",
              "    </tr>\n",
              "    <tr>\n",
              "      <th>7</th>\n",
              "      <td>Steelix</td>\n",
              "      <td>1.062825</td>\n",
              "    </tr>\n",
              "    <tr>\n",
              "      <th>8</th>\n",
              "      <td>Shuckle</td>\n",
              "      <td>1.095219</td>\n",
              "    </tr>\n",
              "    <tr>\n",
              "      <th>9</th>\n",
              "      <td>Blissey</td>\n",
              "      <td>1.147408</td>\n",
              "    </tr>\n",
              "    <tr>\n",
              "      <th>10</th>\n",
              "      <td>Aggron</td>\n",
              "      <td>1.052484</td>\n",
              "    </tr>\n",
              "    <tr>\n",
              "      <th>11</th>\n",
              "      <td>Wailord</td>\n",
              "      <td>1.139364</td>\n",
              "    </tr>\n",
              "    <tr>\n",
              "      <th>12</th>\n",
              "      <td>Milotic</td>\n",
              "      <td>1.064543</td>\n",
              "    </tr>\n",
              "    <tr>\n",
              "      <th>13</th>\n",
              "      <td>Rampardos</td>\n",
              "      <td>1.030789</td>\n",
              "    </tr>\n",
              "    <tr>\n",
              "      <th>14</th>\n",
              "      <td>Aegislash</td>\n",
              "      <td>1.029822</td>\n",
              "    </tr>\n",
              "    <tr>\n",
              "      <th>15</th>\n",
              "      <td>Dhelmise</td>\n",
              "      <td>1.032121</td>\n",
              "    </tr>\n",
              "  </tbody>\n",
              "</table>\n",
              "</div>\n",
              "      <button class=\"colab-df-convert\" onclick=\"convertToInteractive('df-e4c5a3d0-37b0-4387-9271-d7d0b26cdb82')\"\n",
              "              title=\"Convert this dataframe to an interactive table.\"\n",
              "              style=\"display:none;\">\n",
              "        \n",
              "  <svg xmlns=\"http://www.w3.org/2000/svg\" height=\"24px\"viewBox=\"0 0 24 24\"\n",
              "       width=\"24px\">\n",
              "    <path d=\"M0 0h24v24H0V0z\" fill=\"none\"/>\n",
              "    <path d=\"M18.56 5.44l.94 2.06.94-2.06 2.06-.94-2.06-.94-.94-2.06-.94 2.06-2.06.94zm-11 1L8.5 8.5l.94-2.06 2.06-.94-2.06-.94L8.5 2.5l-.94 2.06-2.06.94zm10 10l.94 2.06.94-2.06 2.06-.94-2.06-.94-.94-2.06-.94 2.06-2.06.94z\"/><path d=\"M17.41 7.96l-1.37-1.37c-.4-.4-.92-.59-1.43-.59-.52 0-1.04.2-1.43.59L10.3 9.45l-7.72 7.72c-.78.78-.78 2.05 0 2.83L4 21.41c.39.39.9.59 1.41.59.51 0 1.02-.2 1.41-.59l7.78-7.78 2.81-2.81c.8-.78.8-2.07 0-2.86zM5.41 20L4 18.59l7.72-7.72 1.47 1.35L5.41 20z\"/>\n",
              "  </svg>\n",
              "      </button>\n",
              "      \n",
              "  <style>\n",
              "    .colab-df-container {\n",
              "      display:flex;\n",
              "      flex-wrap:wrap;\n",
              "      gap: 12px;\n",
              "    }\n",
              "\n",
              "    .colab-df-convert {\n",
              "      background-color: #E8F0FE;\n",
              "      border: none;\n",
              "      border-radius: 50%;\n",
              "      cursor: pointer;\n",
              "      display: none;\n",
              "      fill: #1967D2;\n",
              "      height: 32px;\n",
              "      padding: 0 0 0 0;\n",
              "      width: 32px;\n",
              "    }\n",
              "\n",
              "    .colab-df-convert:hover {\n",
              "      background-color: #E2EBFA;\n",
              "      box-shadow: 0px 1px 2px rgba(60, 64, 67, 0.3), 0px 1px 3px 1px rgba(60, 64, 67, 0.15);\n",
              "      fill: #174EA6;\n",
              "    }\n",
              "\n",
              "    [theme=dark] .colab-df-convert {\n",
              "      background-color: #3B4455;\n",
              "      fill: #D2E3FC;\n",
              "    }\n",
              "\n",
              "    [theme=dark] .colab-df-convert:hover {\n",
              "      background-color: #434B5C;\n",
              "      box-shadow: 0px 1px 3px 1px rgba(0, 0, 0, 0.15);\n",
              "      filter: drop-shadow(0px 1px 2px rgba(0, 0, 0, 0.3));\n",
              "      fill: #FFFFFF;\n",
              "    }\n",
              "  </style>\n",
              "\n",
              "      <script>\n",
              "        const buttonEl =\n",
              "          document.querySelector('#df-e4c5a3d0-37b0-4387-9271-d7d0b26cdb82 button.colab-df-convert');\n",
              "        buttonEl.style.display =\n",
              "          google.colab.kernel.accessAllowed ? 'block' : 'none';\n",
              "\n",
              "        async function convertToInteractive(key) {\n",
              "          const element = document.querySelector('#df-e4c5a3d0-37b0-4387-9271-d7d0b26cdb82');\n",
              "          const dataTable =\n",
              "            await google.colab.kernel.invokeFunction('convertToInteractive',\n",
              "                                                     [key], {});\n",
              "          if (!dataTable) return;\n",
              "\n",
              "          const docLinkHtml = 'Like what you see? Visit the ' +\n",
              "            '<a target=\"_blank\" href=https://colab.research.google.com/notebooks/data_table.ipynb>data table notebook</a>'\n",
              "            + ' to learn more about interactive tables.';\n",
              "          element.innerHTML = '';\n",
              "          dataTable['output_type'] = 'display_data';\n",
              "          await google.colab.output.renderOutput(dataTable, element);\n",
              "          const docLink = document.createElement('div');\n",
              "          docLink.innerHTML = docLinkHtml;\n",
              "          element.appendChild(docLink);\n",
              "        }\n",
              "      </script>\n",
              "    </div>\n",
              "  </div>\n",
              "  "
            ]
          },
          "metadata": {},
          "execution_count": 35
        }
      ]
    },
    {
      "cell_type": "markdown",
      "source": [
        "## <font size = \"6\"> **Multicollinearity**"
      ],
      "metadata": {
        "id": "6RpZIduinjiu"
      }
    },
    {
      "cell_type": "markdown",
      "source": [
        "Finally we want to determine if there is any multicollinearity in the data, as if there is we may need to reduce the model or perform ridge regression. We will first calculate the correlation matrix."
      ],
      "metadata": {
        "id": "PTMmEjozOjZE"
      }
    },
    {
      "cell_type": "code",
      "source": [
        "#Correlation matrix for the predictor variables\n",
        "predictor_df = poke[predictors]\n",
        "correlation_matrix = predictor_df.corr(method = \"pearson\").round(4)\n",
        "correlation_matrix"
      ],
      "metadata": {
        "colab": {
          "base_uri": "https://localhost:8080/",
          "height": 206
        },
        "id": "t3CsFApWoQel",
        "outputId": "dc51f895-f5ec-417d-8fe3-f6c0bc42fdb8"
      },
      "execution_count": null,
      "outputs": [
        {
          "output_type": "execute_result",
          "data": {
            "text/plain": [
              "          height_m      hp  attack  defense   speed\n",
              "height_m    1.0000  0.4039  0.3823   0.3531  0.1538\n",
              "hp          0.4039  1.0000  0.3712   0.1909  0.1001\n",
              "attack      0.3823  0.3712  1.0000   0.4467  0.2925\n",
              "defense     0.3531  0.1909  0.4467   1.0000 -0.0545\n",
              "speed       0.1538  0.1001  0.2925  -0.0545  1.0000"
            ],
            "text/html": [
              "\n",
              "  <div id=\"df-cf4fb937-7e30-47ec-b1a5-826fdde42a91\">\n",
              "    <div class=\"colab-df-container\">\n",
              "      <div>\n",
              "<style scoped>\n",
              "    .dataframe tbody tr th:only-of-type {\n",
              "        vertical-align: middle;\n",
              "    }\n",
              "\n",
              "    .dataframe tbody tr th {\n",
              "        vertical-align: top;\n",
              "    }\n",
              "\n",
              "    .dataframe thead th {\n",
              "        text-align: right;\n",
              "    }\n",
              "</style>\n",
              "<table border=\"1\" class=\"dataframe\">\n",
              "  <thead>\n",
              "    <tr style=\"text-align: right;\">\n",
              "      <th></th>\n",
              "      <th>height_m</th>\n",
              "      <th>hp</th>\n",
              "      <th>attack</th>\n",
              "      <th>defense</th>\n",
              "      <th>speed</th>\n",
              "    </tr>\n",
              "  </thead>\n",
              "  <tbody>\n",
              "    <tr>\n",
              "      <th>height_m</th>\n",
              "      <td>1.0000</td>\n",
              "      <td>0.4039</td>\n",
              "      <td>0.3823</td>\n",
              "      <td>0.3531</td>\n",
              "      <td>0.1538</td>\n",
              "    </tr>\n",
              "    <tr>\n",
              "      <th>hp</th>\n",
              "      <td>0.4039</td>\n",
              "      <td>1.0000</td>\n",
              "      <td>0.3712</td>\n",
              "      <td>0.1909</td>\n",
              "      <td>0.1001</td>\n",
              "    </tr>\n",
              "    <tr>\n",
              "      <th>attack</th>\n",
              "      <td>0.3823</td>\n",
              "      <td>0.3712</td>\n",
              "      <td>1.0000</td>\n",
              "      <td>0.4467</td>\n",
              "      <td>0.2925</td>\n",
              "    </tr>\n",
              "    <tr>\n",
              "      <th>defense</th>\n",
              "      <td>0.3531</td>\n",
              "      <td>0.1909</td>\n",
              "      <td>0.4467</td>\n",
              "      <td>1.0000</td>\n",
              "      <td>-0.0545</td>\n",
              "    </tr>\n",
              "    <tr>\n",
              "      <th>speed</th>\n",
              "      <td>0.1538</td>\n",
              "      <td>0.1001</td>\n",
              "      <td>0.2925</td>\n",
              "      <td>-0.0545</td>\n",
              "      <td>1.0000</td>\n",
              "    </tr>\n",
              "  </tbody>\n",
              "</table>\n",
              "</div>\n",
              "      <button class=\"colab-df-convert\" onclick=\"convertToInteractive('df-cf4fb937-7e30-47ec-b1a5-826fdde42a91')\"\n",
              "              title=\"Convert this dataframe to an interactive table.\"\n",
              "              style=\"display:none;\">\n",
              "        \n",
              "  <svg xmlns=\"http://www.w3.org/2000/svg\" height=\"24px\"viewBox=\"0 0 24 24\"\n",
              "       width=\"24px\">\n",
              "    <path d=\"M0 0h24v24H0V0z\" fill=\"none\"/>\n",
              "    <path d=\"M18.56 5.44l.94 2.06.94-2.06 2.06-.94-2.06-.94-.94-2.06-.94 2.06-2.06.94zm-11 1L8.5 8.5l.94-2.06 2.06-.94-2.06-.94L8.5 2.5l-.94 2.06-2.06.94zm10 10l.94 2.06.94-2.06 2.06-.94-2.06-.94-.94-2.06-.94 2.06-2.06.94z\"/><path d=\"M17.41 7.96l-1.37-1.37c-.4-.4-.92-.59-1.43-.59-.52 0-1.04.2-1.43.59L10.3 9.45l-7.72 7.72c-.78.78-.78 2.05 0 2.83L4 21.41c.39.39.9.59 1.41.59.51 0 1.02-.2 1.41-.59l7.78-7.78 2.81-2.81c.8-.78.8-2.07 0-2.86zM5.41 20L4 18.59l7.72-7.72 1.47 1.35L5.41 20z\"/>\n",
              "  </svg>\n",
              "      </button>\n",
              "      \n",
              "  <style>\n",
              "    .colab-df-container {\n",
              "      display:flex;\n",
              "      flex-wrap:wrap;\n",
              "      gap: 12px;\n",
              "    }\n",
              "\n",
              "    .colab-df-convert {\n",
              "      background-color: #E8F0FE;\n",
              "      border: none;\n",
              "      border-radius: 50%;\n",
              "      cursor: pointer;\n",
              "      display: none;\n",
              "      fill: #1967D2;\n",
              "      height: 32px;\n",
              "      padding: 0 0 0 0;\n",
              "      width: 32px;\n",
              "    }\n",
              "\n",
              "    .colab-df-convert:hover {\n",
              "      background-color: #E2EBFA;\n",
              "      box-shadow: 0px 1px 2px rgba(60, 64, 67, 0.3), 0px 1px 3px 1px rgba(60, 64, 67, 0.15);\n",
              "      fill: #174EA6;\n",
              "    }\n",
              "\n",
              "    [theme=dark] .colab-df-convert {\n",
              "      background-color: #3B4455;\n",
              "      fill: #D2E3FC;\n",
              "    }\n",
              "\n",
              "    [theme=dark] .colab-df-convert:hover {\n",
              "      background-color: #434B5C;\n",
              "      box-shadow: 0px 1px 3px 1px rgba(0, 0, 0, 0.15);\n",
              "      filter: drop-shadow(0px 1px 2px rgba(0, 0, 0, 0.3));\n",
              "      fill: #FFFFFF;\n",
              "    }\n",
              "  </style>\n",
              "\n",
              "      <script>\n",
              "        const buttonEl =\n",
              "          document.querySelector('#df-cf4fb937-7e30-47ec-b1a5-826fdde42a91 button.colab-df-convert');\n",
              "        buttonEl.style.display =\n",
              "          google.colab.kernel.accessAllowed ? 'block' : 'none';\n",
              "\n",
              "        async function convertToInteractive(key) {\n",
              "          const element = document.querySelector('#df-cf4fb937-7e30-47ec-b1a5-826fdde42a91');\n",
              "          const dataTable =\n",
              "            await google.colab.kernel.invokeFunction('convertToInteractive',\n",
              "                                                     [key], {});\n",
              "          if (!dataTable) return;\n",
              "\n",
              "          const docLinkHtml = 'Like what you see? Visit the ' +\n",
              "            '<a target=\"_blank\" href=https://colab.research.google.com/notebooks/data_table.ipynb>data table notebook</a>'\n",
              "            + ' to learn more about interactive tables.';\n",
              "          element.innerHTML = '';\n",
              "          dataTable['output_type'] = 'display_data';\n",
              "          await google.colab.output.renderOutput(dataTable, element);\n",
              "          const docLink = document.createElement('div');\n",
              "          docLink.innerHTML = docLinkHtml;\n",
              "          element.appendChild(docLink);\n",
              "        }\n",
              "      </script>\n",
              "    </div>\n",
              "  </div>\n",
              "  "
            ]
          },
          "metadata": {},
          "execution_count": 36
        }
      ]
    },
    {
      "cell_type": "markdown",
      "source": [
        "The correlation matrix for the predictors has no high values of correlation between any of the predictors. The correlation matrix shows no signs of multicollinearity, but alone does not confirm the absence of multicollinearity. We will inspect the variance inflation factors of the predictor variables to ensure our data has no problems with multicollinearity."
      ],
      "metadata": {
        "id": "IUPyDw2oOrjN"
      }
    },
    {
      "cell_type": "code",
      "source": [
        "#Get the design matrix\n",
        "X = dmatrices(\"weight_kg ~ height_m + hp + attack + defense + speed\", data = poke, return_type = \"dataframe\")[1]\n",
        "\n",
        "#Get the VIFs\n",
        "vif = pd.DataFrame()\n",
        "vif['VIF'] = [variance_inflation_factor(X.values, i) for i in range(X.shape[1])]\n",
        "vif['variable'] = X.columns\n",
        "vif = vif[[\"variable\", \"VIF\"]]\n",
        "vif[~(vif[\"variable\"] == \"Intercept\")]"
      ],
      "metadata": {
        "colab": {
          "base_uri": "https://localhost:8080/",
          "height": 206
        },
        "id": "l2BdkNoiwWMk",
        "outputId": "0acf5557-cfe4-4712-d970-a3949a010f6e"
      },
      "execution_count": null,
      "outputs": [
        {
          "output_type": "execute_result",
          "data": {
            "text/plain": [
              "   variable       VIF\n",
              "1  height_m  1.373991\n",
              "2        hp  1.282736\n",
              "3    attack  1.603355\n",
              "4   defense  1.391518\n",
              "5     speed  1.160309"
            ],
            "text/html": [
              "\n",
              "  <div id=\"df-c94d2182-91d9-4b10-87c2-883b8ad5cc41\">\n",
              "    <div class=\"colab-df-container\">\n",
              "      <div>\n",
              "<style scoped>\n",
              "    .dataframe tbody tr th:only-of-type {\n",
              "        vertical-align: middle;\n",
              "    }\n",
              "\n",
              "    .dataframe tbody tr th {\n",
              "        vertical-align: top;\n",
              "    }\n",
              "\n",
              "    .dataframe thead th {\n",
              "        text-align: right;\n",
              "    }\n",
              "</style>\n",
              "<table border=\"1\" class=\"dataframe\">\n",
              "  <thead>\n",
              "    <tr style=\"text-align: right;\">\n",
              "      <th></th>\n",
              "      <th>variable</th>\n",
              "      <th>VIF</th>\n",
              "    </tr>\n",
              "  </thead>\n",
              "  <tbody>\n",
              "    <tr>\n",
              "      <th>1</th>\n",
              "      <td>height_m</td>\n",
              "      <td>1.373991</td>\n",
              "    </tr>\n",
              "    <tr>\n",
              "      <th>2</th>\n",
              "      <td>hp</td>\n",
              "      <td>1.282736</td>\n",
              "    </tr>\n",
              "    <tr>\n",
              "      <th>3</th>\n",
              "      <td>attack</td>\n",
              "      <td>1.603355</td>\n",
              "    </tr>\n",
              "    <tr>\n",
              "      <th>4</th>\n",
              "      <td>defense</td>\n",
              "      <td>1.391518</td>\n",
              "    </tr>\n",
              "    <tr>\n",
              "      <th>5</th>\n",
              "      <td>speed</td>\n",
              "      <td>1.160309</td>\n",
              "    </tr>\n",
              "  </tbody>\n",
              "</table>\n",
              "</div>\n",
              "      <button class=\"colab-df-convert\" onclick=\"convertToInteractive('df-c94d2182-91d9-4b10-87c2-883b8ad5cc41')\"\n",
              "              title=\"Convert this dataframe to an interactive table.\"\n",
              "              style=\"display:none;\">\n",
              "        \n",
              "  <svg xmlns=\"http://www.w3.org/2000/svg\" height=\"24px\"viewBox=\"0 0 24 24\"\n",
              "       width=\"24px\">\n",
              "    <path d=\"M0 0h24v24H0V0z\" fill=\"none\"/>\n",
              "    <path d=\"M18.56 5.44l.94 2.06.94-2.06 2.06-.94-2.06-.94-.94-2.06-.94 2.06-2.06.94zm-11 1L8.5 8.5l.94-2.06 2.06-.94-2.06-.94L8.5 2.5l-.94 2.06-2.06.94zm10 10l.94 2.06.94-2.06 2.06-.94-2.06-.94-.94-2.06-.94 2.06-2.06.94z\"/><path d=\"M17.41 7.96l-1.37-1.37c-.4-.4-.92-.59-1.43-.59-.52 0-1.04.2-1.43.59L10.3 9.45l-7.72 7.72c-.78.78-.78 2.05 0 2.83L4 21.41c.39.39.9.59 1.41.59.51 0 1.02-.2 1.41-.59l7.78-7.78 2.81-2.81c.8-.78.8-2.07 0-2.86zM5.41 20L4 18.59l7.72-7.72 1.47 1.35L5.41 20z\"/>\n",
              "  </svg>\n",
              "      </button>\n",
              "      \n",
              "  <style>\n",
              "    .colab-df-container {\n",
              "      display:flex;\n",
              "      flex-wrap:wrap;\n",
              "      gap: 12px;\n",
              "    }\n",
              "\n",
              "    .colab-df-convert {\n",
              "      background-color: #E8F0FE;\n",
              "      border: none;\n",
              "      border-radius: 50%;\n",
              "      cursor: pointer;\n",
              "      display: none;\n",
              "      fill: #1967D2;\n",
              "      height: 32px;\n",
              "      padding: 0 0 0 0;\n",
              "      width: 32px;\n",
              "    }\n",
              "\n",
              "    .colab-df-convert:hover {\n",
              "      background-color: #E2EBFA;\n",
              "      box-shadow: 0px 1px 2px rgba(60, 64, 67, 0.3), 0px 1px 3px 1px rgba(60, 64, 67, 0.15);\n",
              "      fill: #174EA6;\n",
              "    }\n",
              "\n",
              "    [theme=dark] .colab-df-convert {\n",
              "      background-color: #3B4455;\n",
              "      fill: #D2E3FC;\n",
              "    }\n",
              "\n",
              "    [theme=dark] .colab-df-convert:hover {\n",
              "      background-color: #434B5C;\n",
              "      box-shadow: 0px 1px 3px 1px rgba(0, 0, 0, 0.15);\n",
              "      filter: drop-shadow(0px 1px 2px rgba(0, 0, 0, 0.3));\n",
              "      fill: #FFFFFF;\n",
              "    }\n",
              "  </style>\n",
              "\n",
              "      <script>\n",
              "        const buttonEl =\n",
              "          document.querySelector('#df-c94d2182-91d9-4b10-87c2-883b8ad5cc41 button.colab-df-convert');\n",
              "        buttonEl.style.display =\n",
              "          google.colab.kernel.accessAllowed ? 'block' : 'none';\n",
              "\n",
              "        async function convertToInteractive(key) {\n",
              "          const element = document.querySelector('#df-c94d2182-91d9-4b10-87c2-883b8ad5cc41');\n",
              "          const dataTable =\n",
              "            await google.colab.kernel.invokeFunction('convertToInteractive',\n",
              "                                                     [key], {});\n",
              "          if (!dataTable) return;\n",
              "\n",
              "          const docLinkHtml = 'Like what you see? Visit the ' +\n",
              "            '<a target=\"_blank\" href=https://colab.research.google.com/notebooks/data_table.ipynb>data table notebook</a>'\n",
              "            + ' to learn more about interactive tables.';\n",
              "          element.innerHTML = '';\n",
              "          dataTable['output_type'] = 'display_data';\n",
              "          await google.colab.output.renderOutput(dataTable, element);\n",
              "          const docLink = document.createElement('div');\n",
              "          docLink.innerHTML = docLinkHtml;\n",
              "          element.appendChild(docLink);\n",
              "        }\n",
              "      </script>\n",
              "    </div>\n",
              "  </div>\n",
              "  "
            ]
          },
          "metadata": {},
          "execution_count": 37
        }
      ]
    },
    {
      "cell_type": "markdown",
      "source": [
        "The summary of variance inflation factors consists of VIFs that are \n",
        "well below values of concern. Thus, our dataset has no significant problems with multicollinearity."
      ],
      "metadata": {
        "id": "vC86GEkAOwXh"
      }
    },
    {
      "cell_type": "markdown",
      "source": [
        "## <font size = \"6\"> **Conclusion**"
      ],
      "metadata": {
        "id": "TeeU_EZfO1hf"
      }
    },
    {
      "cell_type": "markdown",
      "source": [
        "We found that model $1$ is not an adequate model to predict Pokemon weight as both the linearity and normality assumptions are violated. This could lead to predictions with incredibly high variance, and does not allow us to perform the usual hypothesis tests on the coefficients. To alleviate these violations we used a box-cox transformation on Pokemon weight, and achieved a model that does not violate any assumptions of linear regression. Model $3$ had an $R^{2}$  value of $0.556$ implying that $55.6\\%$ of the variation in the transformed Pokemon’s weight is explained by the model. When testing for the significance of regression we found that at least one of height, hp, attack, defense, and speed contributed to the model. It should also be noted that all variables with the exception of speed were statistically significant given the other variables were in the model. The data set contained two major points of influence, those being Steelix and Wailord, and there seems to be no significant multicollinearity in the data."
      ],
      "metadata": {
        "id": "6UccVH7TO6m7"
      }
    }
  ]
}