{
  "nbformat": 4,
  "nbformat_minor": 0,
  "metadata": {
    "colab": {
      "provenance": [],
      "authorship_tag": "ABX9TyMV7R5RFQM/z8vAiSDO7hQr",
      "include_colab_link": true
    },
    "kernelspec": {
      "name": "python3",
      "display_name": "Python 3"
    },
    "language_info": {
      "name": "python"
    }
  },
  "cells": [
    {
      "cell_type": "markdown",
      "metadata": {
        "id": "view-in-github",
        "colab_type": "text"
      },
      "source": [
        "<a href=\"https://colab.research.google.com/github/Integraloflnx/Pokemon_Project/blob/main/pokemon_regression.ipynb\" target=\"_parent\"><img src=\"https://colab.research.google.com/assets/colab-badge.svg\" alt=\"Open In Colab\"/></a>"
      ]
    },
    {
      "cell_type": "code",
      "execution_count": null,
      "metadata": {
        "id": "ggJsKnmHbE5Z"
      },
      "outputs": [],
      "source": [
        "import pandas as pd"
      ]
    },
    {
      "cell_type": "code",
      "source": [
        "#Read the pokemon data in from github and create pokemon dataframe with specified attributes\n",
        "attributes_list = [\"type1\", \"height_m\", \"weight_kg\", \"hp\", \"attack\", \"defense\", \"speed\", \"generation\", \"is_legendary\"]\n",
        "url = \"https://github.com/Integraloflnx/Pokemon_Project/blob/main/data/pokemon.csv?raw=true\"\n",
        "pokemon = pd.read_csv(url, index_col = \"name\")[pd.read_csv(url, index_col = \"name\")[\"generation\"] == 1][attributes_list] #We limit the data to generation 1 pokemon"
      ],
      "metadata": {
        "id": "aNtmm4SbcO31"
      },
      "execution_count": 30,
      "outputs": []
    },
    {
      "cell_type": "code",
      "source": [],
      "metadata": {
        "colab": {
          "base_uri": "https://localhost:8080/"
        },
        "id": "sLcBhW-4dUDz",
        "outputId": "9c28209e-f8ed-4b63-ff5f-eefdb9a25dd4"
      },
      "execution_count": 31,
      "outputs": [
        {
          "output_type": "stream",
          "name": "stdout",
          "text": [
            "             type1  height_m  weight_kg   hp  attack  defense  speed  \\\n",
            "name                                                                   \n",
            "Dratini     dragon       1.8        3.3   41      64       45     50   \n",
            "Dragonair   dragon       4.0       16.5   61      84       65     70   \n",
            "Dragonite   dragon       2.2      210.0   91     134       95     80   \n",
            "Mewtwo     psychic       2.0      122.0  106     150       70    140   \n",
            "Mew        psychic       0.4        4.0  100     100      100    100   \n",
            "\n",
            "           generation  is_legendary  \n",
            "name                                 \n",
            "Dratini             1             0  \n",
            "Dragonair           1             0  \n",
            "Dragonite           1             0  \n",
            "Mewtwo              1             1  \n",
            "Mew                 1             1  \n"
          ]
        }
      ]
    }
  ]
}